{
 "metadata": {
  "language_info": {
   "codemirror_mode": {
    "name": "ipython",
    "version": 3
   },
   "file_extension": ".py",
   "mimetype": "text/x-python",
   "name": "python",
   "nbconvert_exporter": "python",
   "pygments_lexer": "ipython3",
   "version": "3.7.6"
  },
  "orig_nbformat": 2,
  "kernelspec": {
   "name": "python3",
   "display_name": "Python 3.7.6 64-bit ('base': conda)",
   "metadata": {
    "interpreter": {
     "hash": "7c22713cfbae5454d99b042973cb83eb262d6f1a825e1d76f9c854b699a166f8"
    }
   }
  }
 },
 "nbformat": 4,
 "nbformat_minor": 2,
 "cells": [
  {
   "cell_type": "code",
   "execution_count": 1,
   "metadata": {},
   "outputs": [],
   "source": [
    "import pandas as pd"
   ]
  },
  {
   "cell_type": "code",
   "execution_count": 2,
   "metadata": {},
   "outputs": [],
   "source": [
    "# import data\n",
    "df1 = pd.read_csv('./data-crawling/digital-supply-chain-details.csv')\n",
    "df2 = pd.read_csv('./data-crawling/supply-chain-technology-details.csv')\n",
    "\n",
    "# concat data frames\n",
    "frames = pd.concat([df1, df2], ignore_index=True)\n",
    "\n",
    "# remove column '_id'\n",
    "frames = frames.drop(['_id'], axis=1)\n",
    "\n",
    "# remove duplicated rows\n",
    "frames = frames.drop_duplicates()\n",
    "\n",
    "# reset index\n",
    "frames = frames.reset_index(drop=True)\n"
   ]
  },
  {
   "cell_type": "code",
   "execution_count": 3,
   "metadata": {},
   "outputs": [
    {
     "output_type": "stream",
     "name": "stdout",
     "text": [
      "<class 'pandas.core.frame.DataFrame'>\nRangeIndex: 3698 entries, 0 to 3697\nData columns (total 7 columns):\n #   Column     Non-Null Count  Dtype \n---  ------     --------------  ----- \n 0   url        3698 non-null   object\n 1   title      3698 non-null   object\n 2   publihser  3698 non-null   object\n 3   doc_id     3698 non-null   object\n 4   authors    3698 non-null   object\n 5   keywords   3698 non-null   object\n 6   abstract   3694 non-null   object\ndtypes: object(7)\nmemory usage: 202.4+ KB\n"
     ]
    }
   ],
   "source": [
    "frames.info()"
   ]
  },
  {
   "cell_type": "code",
   "execution_count": 4,
   "metadata": {},
   "outputs": [
    {
     "output_type": "execute_result",
     "data": {
      "text/plain": [
       "                                                    url  \\\n",
       "0     https://www.mendeley.com/catalogue/77851670-19...   \n",
       "1     https://www.mendeley.com/catalogue/ee471ccc-46...   \n",
       "2     https://www.mendeley.com/catalogue/794eacdc-05...   \n",
       "3     https://www.mendeley.com/catalogue/4be64c43-87...   \n",
       "4     https://www.mendeley.com/catalogue/5652f74d-17...   \n",
       "...                                                 ...   \n",
       "3693  https://www.mendeley.com/catalogue/95b402eb-be...   \n",
       "3694  https://www.mendeley.com/catalogue/5438be1d-31...   \n",
       "3695  https://www.mendeley.com/catalogue/a0d6580a-f8...   \n",
       "3696  https://www.mendeley.com/catalogue/2d3c8eb8-f3...   \n",
       "3697  https://www.mendeley.com/catalogue/0980df84-07...   \n",
       "\n",
       "                                                  title  \\\n",
       "0     Managing the digital supply chain: The role of...   \n",
       "1     Dynamic capabilities and institutional theorie...   \n",
       "2     Digital Supply Chain: Literature review and a ...   \n",
       "3     Digital supply chain through dynamic inventory...   \n",
       "4     A digital supply chain twin for managing the d...   \n",
       "...                                                 ...   \n",
       "3693  Current issues and challenges of supply chain ...   \n",
       "3694  Mobile supply chain management: Challenges for...   \n",
       "3695  Effect of strategic alliance based on port cha...   \n",
       "3696  Risk categories in halal food transportation: ...   \n",
       "3697  The Relationship between Supply Chain Manageme...   \n",
       "\n",
       "                                              publihser  \\\n",
       "0                             Technovation (2020) 96-97   \n",
       "1               Supply Chain Forum (2020) 21(3) 139-157   \n",
       "2               Computers in Industry (2018) 97 157-177   \n",
       "3                              Mathematics (2019) 7(12)   \n",
       "4                Production Planning and Control (2020)   \n",
       "...                                                 ...   \n",
       "3693      Ekonomska Istrazivanja (2012) 25(4) 1101-1112   \n",
       "3694                Technovation (2006) 26(5-6) 682-686   \n",
       "3695    Cogent Business and Management (2019) 6(1) 1-14   \n",
       "3696  International Journal of Supply Chain Manageme...   \n",
       "3697  Journal of Arts & Social Sciences (2019) 2(2) ...   \n",
       "\n",
       "                                  doc_id  \\\n",
       "0     10.1016/j.technovation.2020.102121   \n",
       "1          10.1080/16258312.2020.1757369   \n",
       "2          10.1016/j.compind.2018.02.010   \n",
       "3                    10.3390/MATH7121235   \n",
       "4          10.1080/09537287.2020.1768450   \n",
       "...                                  ...   \n",
       "3693      10.1080/1331677x.2012.11517551   \n",
       "3694  10.1016/j.technovation.2005.07.003   \n",
       "3695       10.1080/23311975.2019.1567893   \n",
       "3696                            20507399   \n",
       "3697                               false   \n",
       "\n",
       "                                                authors  \\\n",
       "0     [\"Nasiri M\",\"Ukko J\",\"Saunila M\",\"et al.See mo...   \n",
       "1     [\"Gupta S\",\"Modgil S\",\"Gunasekaran A\",\"et al.S...   \n",
       "2                         [\"Büyüközkan G\",\"Göçer F\",\"\"]   \n",
       "3                                  [\"de Giovanni P\",\"\"]   \n",
       "4                            [\"Ivanov D\",\"Dolgui A\",\"\"]   \n",
       "...                                                 ...   \n",
       "3693                        [\"Croznik A\",\"Trkman P\",\"\"]   \n",
       "3694                                       [\"Eng T\",\"\"]   \n",
       "3695            [\"Sirajuddin\",\"Zagloel T\",\"Sunaryo\",\"\"]   \n",
       "3696              [\"Yaacob T\",\"Rahman F\",\"Jaafar H\",\"\"]   \n",
       "3697                                 [\"Manokaran R\",\"\"]   \n",
       "\n",
       "                                               keywords  \\\n",
       "0     [\"Collaboration\",\"Digital supply chain\",\"Digit...   \n",
       "1     [\"Industry 4.0\",\"digital supply chain\",\"dynami...   \n",
       "2     [\"DSC framework\",\"Digital Supply Chain (DSC)\",...   \n",
       "3     [\"Digital supply chain\",\"Dynamic inventory\",\"R...   \n",
       "4     [\"Industry 4.0\",\"Supply chain\",\"data analytics...   \n",
       "...                                                 ...   \n",
       "3693  [\"Business redesign\",\"Information technology r...   \n",
       "3694  [\"Coordination\",\"Implementation\",\"Integration\"...   \n",
       "3695  [\"port alliance\",\"port performance\",\"port stra...   \n",
       "3696  [\"Contamination risk\",\"Halal food\",\"Halal food...   \n",
       "3697  [\"customer satisfaction\",\"information\",\"inform...   \n",
       "\n",
       "                                               abstract  \n",
       "0     This study investigates the approach required ...  \n",
       "1     This study explores the firm’s orientation in ...  \n",
       "2     Suppliers, partners, companies and dealers in ...  \n",
       "3     This paper develops a digital supply chain gam...  \n",
       "4     We theorize a notion of a digital supply chain...  \n",
       "...                                                 ...  \n",
       "3693  Efficient supply chain management is crucial f...  \n",
       "3694  Mobile supply chain management (mSCM) is fast ...  \n",
       "3695  This study investigates the effect of integrat...  \n",
       "3696  The issue of halal food has attracted public a...  \n",
       "3697  The main purpose of this study is to understan...  \n",
       "\n",
       "[3698 rows x 7 columns]"
      ],
      "text/html": "<div>\n<style scoped>\n    .dataframe tbody tr th:only-of-type {\n        vertical-align: middle;\n    }\n\n    .dataframe tbody tr th {\n        vertical-align: top;\n    }\n\n    .dataframe thead th {\n        text-align: right;\n    }\n</style>\n<table border=\"1\" class=\"dataframe\">\n  <thead>\n    <tr style=\"text-align: right;\">\n      <th></th>\n      <th>url</th>\n      <th>title</th>\n      <th>publihser</th>\n      <th>doc_id</th>\n      <th>authors</th>\n      <th>keywords</th>\n      <th>abstract</th>\n    </tr>\n  </thead>\n  <tbody>\n    <tr>\n      <th>0</th>\n      <td>https://www.mendeley.com/catalogue/77851670-19...</td>\n      <td>Managing the digital supply chain: The role of...</td>\n      <td>Technovation (2020) 96-97</td>\n      <td>10.1016/j.technovation.2020.102121</td>\n      <td>[\"Nasiri M\",\"Ukko J\",\"Saunila M\",\"et al.See mo...</td>\n      <td>[\"Collaboration\",\"Digital supply chain\",\"Digit...</td>\n      <td>This study investigates the approach required ...</td>\n    </tr>\n    <tr>\n      <th>1</th>\n      <td>https://www.mendeley.com/catalogue/ee471ccc-46...</td>\n      <td>Dynamic capabilities and institutional theorie...</td>\n      <td>Supply Chain Forum (2020) 21(3) 139-157</td>\n      <td>10.1080/16258312.2020.1757369</td>\n      <td>[\"Gupta S\",\"Modgil S\",\"Gunasekaran A\",\"et al.S...</td>\n      <td>[\"Industry 4.0\",\"digital supply chain\",\"dynami...</td>\n      <td>This study explores the firm’s orientation in ...</td>\n    </tr>\n    <tr>\n      <th>2</th>\n      <td>https://www.mendeley.com/catalogue/794eacdc-05...</td>\n      <td>Digital Supply Chain: Literature review and a ...</td>\n      <td>Computers in Industry (2018) 97 157-177</td>\n      <td>10.1016/j.compind.2018.02.010</td>\n      <td>[\"Büyüközkan G\",\"Göçer F\",\"\"]</td>\n      <td>[\"DSC framework\",\"Digital Supply Chain (DSC)\",...</td>\n      <td>Suppliers, partners, companies and dealers in ...</td>\n    </tr>\n    <tr>\n      <th>3</th>\n      <td>https://www.mendeley.com/catalogue/4be64c43-87...</td>\n      <td>Digital supply chain through dynamic inventory...</td>\n      <td>Mathematics (2019) 7(12)</td>\n      <td>10.3390/MATH7121235</td>\n      <td>[\"de Giovanni P\",\"\"]</td>\n      <td>[\"Digital supply chain\",\"Dynamic inventory\",\"R...</td>\n      <td>This paper develops a digital supply chain gam...</td>\n    </tr>\n    <tr>\n      <th>4</th>\n      <td>https://www.mendeley.com/catalogue/5652f74d-17...</td>\n      <td>A digital supply chain twin for managing the d...</td>\n      <td>Production Planning and Control (2020)</td>\n      <td>10.1080/09537287.2020.1768450</td>\n      <td>[\"Ivanov D\",\"Dolgui A\",\"\"]</td>\n      <td>[\"Industry 4.0\",\"Supply chain\",\"data analytics...</td>\n      <td>We theorize a notion of a digital supply chain...</td>\n    </tr>\n    <tr>\n      <th>...</th>\n      <td>...</td>\n      <td>...</td>\n      <td>...</td>\n      <td>...</td>\n      <td>...</td>\n      <td>...</td>\n      <td>...</td>\n    </tr>\n    <tr>\n      <th>3693</th>\n      <td>https://www.mendeley.com/catalogue/95b402eb-be...</td>\n      <td>Current issues and challenges of supply chain ...</td>\n      <td>Ekonomska Istrazivanja (2012) 25(4) 1101-1112</td>\n      <td>10.1080/1331677x.2012.11517551</td>\n      <td>[\"Croznik A\",\"Trkman P\",\"\"]</td>\n      <td>[\"Business redesign\",\"Information technology r...</td>\n      <td>Efficient supply chain management is crucial f...</td>\n    </tr>\n    <tr>\n      <th>3694</th>\n      <td>https://www.mendeley.com/catalogue/5438be1d-31...</td>\n      <td>Mobile supply chain management: Challenges for...</td>\n      <td>Technovation (2006) 26(5-6) 682-686</td>\n      <td>10.1016/j.technovation.2005.07.003</td>\n      <td>[\"Eng T\",\"\"]</td>\n      <td>[\"Coordination\",\"Implementation\",\"Integration\"...</td>\n      <td>Mobile supply chain management (mSCM) is fast ...</td>\n    </tr>\n    <tr>\n      <th>3695</th>\n      <td>https://www.mendeley.com/catalogue/a0d6580a-f8...</td>\n      <td>Effect of strategic alliance based on port cha...</td>\n      <td>Cogent Business and Management (2019) 6(1) 1-14</td>\n      <td>10.1080/23311975.2019.1567893</td>\n      <td>[\"Sirajuddin\",\"Zagloel T\",\"Sunaryo\",\"\"]</td>\n      <td>[\"port alliance\",\"port performance\",\"port stra...</td>\n      <td>This study investigates the effect of integrat...</td>\n    </tr>\n    <tr>\n      <th>3696</th>\n      <td>https://www.mendeley.com/catalogue/2d3c8eb8-f3...</td>\n      <td>Risk categories in halal food transportation: ...</td>\n      <td>International Journal of Supply Chain Manageme...</td>\n      <td>20507399</td>\n      <td>[\"Yaacob T\",\"Rahman F\",\"Jaafar H\",\"\"]</td>\n      <td>[\"Contamination risk\",\"Halal food\",\"Halal food...</td>\n      <td>The issue of halal food has attracted public a...</td>\n    </tr>\n    <tr>\n      <th>3697</th>\n      <td>https://www.mendeley.com/catalogue/0980df84-07...</td>\n      <td>The Relationship between Supply Chain Manageme...</td>\n      <td>Journal of Arts &amp; Social Sciences (2019) 2(2) ...</td>\n      <td>false</td>\n      <td>[\"Manokaran R\",\"\"]</td>\n      <td>[\"customer satisfaction\",\"information\",\"inform...</td>\n      <td>The main purpose of this study is to understan...</td>\n    </tr>\n  </tbody>\n</table>\n<p>3698 rows × 7 columns</p>\n</div>"
     },
     "metadata": {},
     "execution_count": 4
    }
   ],
   "source": [
    "frames"
   ]
  },
  {
   "cell_type": "code",
   "execution_count": null,
   "metadata": {},
   "outputs": [],
   "source": []
  }
 ]
}