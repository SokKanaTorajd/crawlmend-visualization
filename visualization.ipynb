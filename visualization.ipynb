{
 "cells": [
  {
   "cell_type": "code",
   "execution_count": 2,
   "metadata": {},
   "outputs": [],
   "source": [
    "import matplotlib.pyplot as plt\n",
    "import pandas as pd\n",
    "import re"
   ]
  },
  {
   "cell_type": "code",
   "execution_count": 2,
   "metadata": {},
   "outputs": [],
   "source": [
    "# # import data\n",
    "# df1 = pd.read_csv('./data-crawling/digital-supply-chain-details.csv')\n",
    "# df2 = pd.read_csv('./data-crawling/supply-chain-technology-details.csv')\n",
    "\n",
    "# # concat data frames\n",
    "# frames = pd.concat([df1, df2], ignore_index=True)\n",
    "\n",
    "# # remove column '_id'\n",
    "# frames = frames.drop(['_id'], axis=1)\n",
    "\n",
    "# # remove duplicated rows\n",
    "# frames = frames.drop_duplicates()\n",
    "\n",
    "# # reset index\n",
    "# frames = frames.reset_index(drop=True)"
   ]
  },
  {
   "cell_type": "code",
   "execution_count": 3,
   "metadata": {},
   "outputs": [],
   "source": [
    "# frames.info()"
   ]
  },
  {
   "cell_type": "code",
   "execution_count": 4,
   "metadata": {},
   "outputs": [],
   "source": [
    "# frames"
   ]
  },
  {
   "cell_type": "code",
   "execution_count": 5,
   "metadata": {},
   "outputs": [],
   "source": [
    "# # export to csv\n",
    "# frames.to_csv('./data-crawling/raw-data.csv', index=False)"
   ]
  },
  {
   "cell_type": "code",
   "execution_count": 23,
   "metadata": {},
   "outputs": [],
   "source": [
    "# publisher = pd.read_csv('./data-crawling/raw-data.csv', usecols=['publihser'])\n",
    "# publisher"
   ]
  },
  {
   "cell_type": "code",
   "execution_count": 4,
   "metadata": {},
   "outputs": [],
   "source": [
    "def search_year(text):\n",
    "    \"\"\"get published year from text\"\"\"\n",
    "    all_years = ['1990', '1991', '1992', '1993', '1994', '1995', \n",
    "                 '1996', '1997', '1998', '1999', '2000', '2001',\n",
    "                 '2002', '2003', '2004', '2005', '2006', '2007',\n",
    "                 '2008', '2009', '2010', '2011', '2012', '2013',\n",
    "                 '2014', '2015', '2016', '2017', '2018', '2019',\n",
    "                 '2020', '2021']\n",
    "    for year in all_years:\n",
    "        y = re.search(year, text)\n",
    "        if y:\n",
    "            return year"
   ]
  },
  {
   "cell_type": "code",
   "execution_count": 5,
   "metadata": {},
   "outputs": [],
   "source": [
    "def search_publisher(text):\n",
    "    \"\"\"get publisher's name from text\"\"\"\n",
    "    publisher = []\n",
    "    text = text.lower()\n",
    "    items = text.split()\n",
    "    for elem in items:\n",
    "        if elem.isalpha():\n",
    "            publisher.append(elem)\n",
    "    \n",
    "    return ' '.join(publisher)"
   ]
  },
  {
   "cell_type": "code",
   "execution_count": 24,
   "metadata": {},
   "outputs": [
    {
     "data": {
      "text/plain": [
       "['technovation (2020) 96-97',\n",
       " 'supply chain forum (2020) 21(3) 139-157',\n",
       " 'computers in industry (2018) 97 157-177',\n",
       " 'mathematics (2019) 7(12)',\n",
       " 'production planning and control (2020)',\n",
       " 'journal of modelling in management (2020) 15(1) 297-317',\n",
       " 'benchmarking (2019)',\n",
       " 'international journal of supply chain management (2020) 9(3) 843-849',\n",
       " 'international journal of supply chain management (2020) 9(4) 1074-1080',\n",
       " 'journal of manufacturing technology management (2019) 31(5) 887-933']"
      ]
     },
     "execution_count": 24,
     "metadata": {},
     "output_type": "execute_result"
    }
   ],
   "source": [
    "# sample = [publisher['publihser'][i].lower() for i in range(10)]\n",
    "# sample"
   ]
  },
  {
   "cell_type": "code",
   "execution_count": 7,
   "metadata": {},
   "outputs": [
    {
     "name": "stdout",
     "output_type": "stream",
     "text": [
      "technovation 2020\n",
      "supply chain forum 2020\n",
      "computers in industry 2018\n",
      "mathematics 2019\n",
      "production planning and control 2020\n",
      "journal of modelling in management 2020\n",
      "benchmarking 2019\n",
      "international journal of supply chain management 2020\n",
      "international journal of supply chain management 2020\n",
      "journal of manufacturing technology management 2019\n"
     ]
    }
   ],
   "source": [
    "# for s in sample:\n",
    "#     year = search_year(s)\n",
    "#     p = search_publisher(s)\n",
    "#     print(p, year)"
   ]
  },
  {
   "cell_type": "code",
   "execution_count": 8,
   "metadata": {},
   "outputs": [],
   "source": [
    "# # Apply function search_year and search_publisher to dataframe\n",
    "\n",
    "# splitted_data = []\n",
    "\n",
    "# for p in publisher['publihser']:\n",
    "#     publish = search_publisher(p)\n",
    "#     year = search_year(p)\n",
    "#     splitted_data.append([publish, year])"
   ]
  },
  {
   "cell_type": "code",
   "execution_count": 10,
   "metadata": {},
   "outputs": [],
   "source": [
    "# splitted_data"
   ]
  },
  {
   "cell_type": "code",
   "execution_count": 11,
   "metadata": {},
   "outputs": [],
   "source": [
    "# # create new DataFrame\n",
    "# new_df = pd.DataFrame(splitted_data, columns=['publisher', 'year_published'])\n",
    "\n",
    "# # drop NA row\n",
    "# new_df = new_df.dropna()\n",
    "\n",
    "# # reset index\n",
    "# new_df = new_df.reset_index(drop=True)\n",
    "\n",
    "# # # export to new csv file\n",
    "# # new_df.to_csv('./data-crawling/publisher-year.csv', index=False)"
   ]
  },
  {
   "cell_type": "code",
   "execution_count": 12,
   "metadata": {},
   "outputs": [
    {
     "data": {
      "text/html": [
       "<div>\n",
       "<style scoped>\n",
       "    .dataframe tbody tr th:only-of-type {\n",
       "        vertical-align: middle;\n",
       "    }\n",
       "\n",
       "    .dataframe tbody tr th {\n",
       "        vertical-align: top;\n",
       "    }\n",
       "\n",
       "    .dataframe thead th {\n",
       "        text-align: right;\n",
       "    }\n",
       "</style>\n",
       "<table border=\"1\" class=\"dataframe\">\n",
       "  <thead>\n",
       "    <tr style=\"text-align: right;\">\n",
       "      <th></th>\n",
       "      <th>publisher</th>\n",
       "      <th>year_published</th>\n",
       "    </tr>\n",
       "  </thead>\n",
       "  <tbody>\n",
       "    <tr>\n",
       "      <th>0</th>\n",
       "      <td>technovation</td>\n",
       "      <td>2020</td>\n",
       "    </tr>\n",
       "    <tr>\n",
       "      <th>1</th>\n",
       "      <td>supply chain forum</td>\n",
       "      <td>2020</td>\n",
       "    </tr>\n",
       "    <tr>\n",
       "      <th>2</th>\n",
       "      <td>computers in industry</td>\n",
       "      <td>2018</td>\n",
       "    </tr>\n",
       "    <tr>\n",
       "      <th>3</th>\n",
       "      <td>mathematics</td>\n",
       "      <td>2019</td>\n",
       "    </tr>\n",
       "    <tr>\n",
       "      <th>4</th>\n",
       "      <td>production planning and control</td>\n",
       "      <td>2020</td>\n",
       "    </tr>\n",
       "    <tr>\n",
       "      <th>...</th>\n",
       "      <td>...</td>\n",
       "      <td>...</td>\n",
       "    </tr>\n",
       "    <tr>\n",
       "      <th>3530</th>\n",
       "      <td>ekonomska istrazivanja</td>\n",
       "      <td>2012</td>\n",
       "    </tr>\n",
       "    <tr>\n",
       "      <th>3531</th>\n",
       "      <td>technovation</td>\n",
       "      <td>2006</td>\n",
       "    </tr>\n",
       "    <tr>\n",
       "      <th>3532</th>\n",
       "      <td>cogent business and management</td>\n",
       "      <td>2019</td>\n",
       "    </tr>\n",
       "    <tr>\n",
       "      <th>3533</th>\n",
       "      <td>international journal of supply chain management</td>\n",
       "      <td>2018</td>\n",
       "    </tr>\n",
       "    <tr>\n",
       "      <th>3534</th>\n",
       "      <td>journal of arts social sciences</td>\n",
       "      <td>2019</td>\n",
       "    </tr>\n",
       "  </tbody>\n",
       "</table>\n",
       "<p>3535 rows × 2 columns</p>\n",
       "</div>"
      ],
      "text/plain": [
       "                                             publisher year_published\n",
       "0                                         technovation           2020\n",
       "1                                   supply chain forum           2020\n",
       "2                                computers in industry           2018\n",
       "3                                          mathematics           2019\n",
       "4                      production planning and control           2020\n",
       "...                                                ...            ...\n",
       "3530                            ekonomska istrazivanja           2012\n",
       "3531                                      technovation           2006\n",
       "3532                    cogent business and management           2019\n",
       "3533  international journal of supply chain management           2018\n",
       "3534                   journal of arts social sciences           2019\n",
       "\n",
       "[3535 rows x 2 columns]"
      ]
     },
     "execution_count": 12,
     "metadata": {},
     "output_type": "execute_result"
    }
   ],
   "source": [
    "# new_df"
   ]
  },
  {
   "cell_type": "code",
   "execution_count": 20,
   "metadata": {},
   "outputs": [],
   "source": [
    "# # remove row contains ''\n",
    "# test_df = new_df.drop(new_df.index[new_df['publisher'] == ''], inplace = True)"
   ]
  },
  {
   "cell_type": "code",
   "execution_count": 199,
   "metadata": {},
   "outputs": [],
   "source": [
    "# test_df.info()\n",
    "# # new_df.info()"
   ]
  },
  {
   "cell_type": "code",
   "execution_count": 36,
   "metadata": {},
   "outputs": [],
   "source": [
    "df = pd.read_csv('./data-crawling/only-publisher.csv')\n",
    "# df['year_published']"
   ]
  },
  {
   "cell_type": "code",
   "execution_count": 37,
   "metadata": {},
   "outputs": [
    {
     "data": {
      "text/plain": [
       "2020    679\n",
       "2019    578\n",
       "2018    371\n",
       "2017    319\n",
       "2016    236\n",
       "2015    193\n",
       "2014    154\n",
       "2012    119\n",
       "2013    107\n",
       "2011     97\n",
       "2010     92\n",
       "2008     76\n",
       "2007     66\n",
       "2009     57\n",
       "2005     54\n",
       "2004     45\n",
       "2006     44\n",
       "2001     42\n",
       "2003     31\n",
       "2021     29\n",
       "2000     29\n",
       "2002     24\n",
       "1999     17\n",
       "1997     10\n",
       "1998      6\n",
       "1996      5\n",
       "1995      5\n",
       "1990      4\n",
       "1993      3\n",
       "1991      3\n",
       "1994      1\n",
       "Name: year_published, dtype: int64"
      ]
     },
     "execution_count": 37,
     "metadata": {},
     "output_type": "execute_result"
    }
   ],
   "source": [
    "unique_years = df['year_published'].value_counts() #.sort_values(ascending=True)\n",
    "unique_years"
   ]
  },
  {
   "cell_type": "code",
   "execution_count": 39,
   "metadata": {},
   "outputs": [],
   "source": [
    "year_trends = df['year_published'].value_counts().index.tolist()\n",
    "value_trends = df['year_published'].value_counts().tolist()"
   ]
  },
  {
   "cell_type": "code",
   "execution_count": 58,
   "metadata": {},
   "outputs": [
    {
     "data": {
      "text/plain": [
       "int"
      ]
     },
     "execution_count": 58,
     "metadata": {},
     "output_type": "execute_result"
    }
   ],
   "source": [
    "type(year_trends[1])"
   ]
  },
  {
   "cell_type": "code",
   "execution_count": 40,
   "metadata": {},
   "outputs": [],
   "source": [
    "trend_dict = {}\n",
    "for i in range(len(year_trends)):\n",
    "    trend_dict[year_trends[i]] = value_trends[i]"
   ]
  },
  {
   "cell_type": "code",
   "execution_count": 43,
   "metadata": {},
   "outputs": [
    {
     "ename": "AttributeError",
     "evalue": "'list' object has no attribute 'items'",
     "output_type": "error",
     "traceback": [
      "\u001b[1;31m---------------------------------------------------------------------------\u001b[0m",
      "\u001b[1;31mAttributeError\u001b[0m                            Traceback (most recent call last)",
      "\u001b[1;32m<ipython-input-43-71b58cdbe1ab>\u001b[0m in \u001b[0;36m<module>\u001b[1;34m\u001b[0m\n\u001b[1;32m----> 1\u001b[1;33m \u001b[0mtrend_items\u001b[0m \u001b[1;33m=\u001b[0m \u001b[0mtrend_dict\u001b[0m\u001b[1;33m.\u001b[0m\u001b[0mitems\u001b[0m\u001b[1;33m(\u001b[0m\u001b[1;33m)\u001b[0m\u001b[1;33m\u001b[0m\u001b[1;33m\u001b[0m\u001b[0m\n\u001b[0m\u001b[0;32m      2\u001b[0m \u001b[0mtrend_dict\u001b[0m \u001b[1;33m=\u001b[0m \u001b[0msorted\u001b[0m\u001b[1;33m(\u001b[0m\u001b[0mtrend_items\u001b[0m\u001b[1;33m)\u001b[0m\u001b[1;33m\u001b[0m\u001b[1;33m\u001b[0m\u001b[0m\n",
      "\u001b[1;31mAttributeError\u001b[0m: 'list' object has no attribute 'items'"
     ]
    }
   ],
   "source": [
    "# sorting from older year\n",
    "# trend_items = trend_dict.items()\n",
    "# trend_dict = sorted(trend_items)"
   ]
  },
  {
   "cell_type": "code",
   "execution_count": 38,
   "metadata": {},
   "outputs": [
    {
     "data": {
      "text/plain": [
       "<AxesSubplot:>"
      ]
     },
     "execution_count": 38,
     "metadata": {},
     "output_type": "execute_result"
    },
    {
     "data": {
      "image/png": "[encoded data removed]",
      "text/plain": [
       "<Figure size 432x288 with 1 Axes>"
      ]
     },
     "metadata": {
      "needs_background": "light"
     },
     "output_type": "display_data"
    }
   ],
   "source": [
    "unique_years.plot()"
   ]
  },
  {
   "cell_type": "code",
   "execution_count": 61,
   "metadata": {},
   "outputs": [
    {
     "data": {
      "text/plain": [
       "<AxesSubplot:>"
      ]
     },
     "execution_count": 61,
     "metadata": {},
     "output_type": "execute_result"
    },
    {
     "data": {
      "image/png": "[encoded data removed]",
      "text/plain": [
       "<Figure size 432x288 with 1 Axes>"
      ]
     },
     "metadata": {
      "needs_background": "light"
     },
     "output_type": "display_data"
    }
   ],
   "source": [
    "td = pd.DataFrame(trend_dict, columns=['year', 'number_publications'])"
   ]
  },
  {
   "cell_type": "code",
   "execution_count": 65,
   "metadata": {},
   "outputs": [],
   "source": [
    "td.to_csv('./data-crawling/publication-year-by-year.csv', index=False)"
   ]
  },
  {
   "cell_type": "code",
   "execution_count": 196,
   "metadata": {},
   "outputs": [
    {
     "data": {
      "image/png": "[encoded data removed]",
      "text/plain": [
       "<Figure size 432x288 with 1 Axes>"
      ]
     },
     "metadata": {
      "needs_background": "light"
     },
     "output_type": "display_data"
    },
    {
     "data": {
      "text/plain": [
       "<Figure size 432x288 with 0 Axes>"
      ]
     },
     "metadata": {},
     "output_type": "display_data"
    }
   ],
   "source": [
    "ax = plt.gca()\n",
    "td.plot(kind='line', x='year', y='number_publications', ax=ax)\n",
    "plt.show()\n",
    "plt.savefig('./images/trends-by-year.png')"
   ]
  },
  {
   "cell_type": "code",
   "execution_count": 28,
   "metadata": {},
   "outputs": [],
   "source": [
    "# new_df.to_csv('./data-crawling/only-publisher.csv', index=False)"
   ]
  },
  {
   "cell_type": "code",
   "execution_count": 66,
   "metadata": {},
   "outputs": [
    {
     "data": {
      "text/plain": [
       "Computers and Industrial Engineering                 25\n",
       "Production Planning and Control                      29\n",
       "IEEE Access                                          34\n",
       "Supply Chain Management                              37\n",
       "SSRN Electronic Journal                              45\n",
       "Journal of Cleaner Production                        47\n",
       "International Journal of Production Economics        53\n",
       "Sustainability                                       57\n",
       "International Journal of Production Research         62\n",
       "International Journal of Supply Chain Management    119\n",
       "Name: publisher, dtype: int64"
      ]
     },
     "execution_count": 66,
     "metadata": {},
     "output_type": "execute_result"
    }
   ],
   "source": [
    "unique_publisher = df['publisher'].value_counts()[:10].sort_values(ascending=True)\n",
    "unique_publisher"
   ]
  },
  {
   "cell_type": "code",
   "execution_count": 198,
   "metadata": {},
   "outputs": [
    {
     "data": {
      "image/png": "[encoded data removed]",
      "text/plain": [
       "<Figure size 432x288 with 1 Axes>"
      ]
     },
     "metadata": {
      "needs_background": "light"
     },
     "output_type": "display_data"
    }
   ],
   "source": [
    "unique_publisher.plot(kind='barh')\n",
    "plt.savefig('./images/top-ten-publishers.png')"
   ]
  },
  {
   "cell_type": "code",
   "execution_count": 70,
   "metadata": {},
   "outputs": [
    {
     "data": {
      "text/plain": [
       "[25, 29, 34, 37, 45, 47, 53, 57, 62, 119]"
      ]
     },
     "execution_count": 70,
     "metadata": {},
     "output_type": "execute_result"
    }
   ],
   "source": [
    "publisher_list = df['publisher'].value_counts()[:10].sort_values(ascending=True).index.tolist()\n",
    "publisher_value = df['publisher'].value_counts()[:10].sort_values(ascending=True).tolist()"
   ]
  },
  {
   "cell_type": "code",
   "execution_count": 71,
   "metadata": {},
   "outputs": [
    {
     "data": {
      "text/plain": [
       "{'Computers and Industrial Engineering': 25,\n",
       " 'Production Planning and Control': 29,\n",
       " 'IEEE Access': 34,\n",
       " 'Supply Chain Management': 37,\n",
       " 'SSRN Electronic Journal': 45,\n",
       " 'Journal of Cleaner Production': 47,\n",
       " 'International Journal of Production Economics': 53,\n",
       " 'Sustainability': 57,\n",
       " 'International Journal of Production Research': 62,\n",
       " 'International Journal of Supply Chain Management': 119}"
      ]
     },
     "execution_count": 71,
     "metadata": {},
     "output_type": "execute_result"
    }
   ],
   "source": [
    "top10_dict = {}\n",
    "for i in range(len(publisher_list)):\n",
    "    top10_dict[publisher_list[i]] = publisher_value[i]\n",
    "\n",
    "top10_dict"
   ]
  },
  {
   "cell_type": "code",
   "execution_count": 88,
   "metadata": {},
   "outputs": [
    {
     "data": {
      "text/html": [
       "<div>\n",
       "<style scoped>\n",
       "    .dataframe tbody tr th:only-of-type {\n",
       "        vertical-align: middle;\n",
       "    }\n",
       "\n",
       "    .dataframe tbody tr th {\n",
       "        vertical-align: top;\n",
       "    }\n",
       "\n",
       "    .dataframe thead th {\n",
       "        text-align: right;\n",
       "    }\n",
       "</style>\n",
       "<table border=\"1\" class=\"dataframe\">\n",
       "  <thead>\n",
       "    <tr style=\"text-align: right;\">\n",
       "      <th></th>\n",
       "      <th>publisher</th>\n",
       "      <th>number_publications</th>\n",
       "    </tr>\n",
       "  </thead>\n",
       "  <tbody>\n",
       "    <tr>\n",
       "      <th>0</th>\n",
       "      <td>Computers and Industrial Engineering</td>\n",
       "      <td>25</td>\n",
       "    </tr>\n",
       "    <tr>\n",
       "      <th>1</th>\n",
       "      <td>Production Planning and Control</td>\n",
       "      <td>29</td>\n",
       "    </tr>\n",
       "    <tr>\n",
       "      <th>2</th>\n",
       "      <td>IEEE Access</td>\n",
       "      <td>34</td>\n",
       "    </tr>\n",
       "    <tr>\n",
       "      <th>3</th>\n",
       "      <td>Supply Chain Management</td>\n",
       "      <td>37</td>\n",
       "    </tr>\n",
       "    <tr>\n",
       "      <th>4</th>\n",
       "      <td>SSRN Electronic Journal</td>\n",
       "      <td>45</td>\n",
       "    </tr>\n",
       "    <tr>\n",
       "      <th>5</th>\n",
       "      <td>Journal of Cleaner Production</td>\n",
       "      <td>47</td>\n",
       "    </tr>\n",
       "    <tr>\n",
       "      <th>6</th>\n",
       "      <td>International Journal of Production Economics</td>\n",
       "      <td>53</td>\n",
       "    </tr>\n",
       "    <tr>\n",
       "      <th>7</th>\n",
       "      <td>Sustainability</td>\n",
       "      <td>57</td>\n",
       "    </tr>\n",
       "    <tr>\n",
       "      <th>8</th>\n",
       "      <td>International Journal of Production Research</td>\n",
       "      <td>62</td>\n",
       "    </tr>\n",
       "    <tr>\n",
       "      <th>9</th>\n",
       "      <td>International Journal of Supply Chain Management</td>\n",
       "      <td>119</td>\n",
       "    </tr>\n",
       "  </tbody>\n",
       "</table>\n",
       "</div>"
      ],
      "text/plain": [
       "                                          publisher  number_publications\n",
       "0              Computers and Industrial Engineering                   25\n",
       "1                   Production Planning and Control                   29\n",
       "2                                       IEEE Access                   34\n",
       "3                           Supply Chain Management                   37\n",
       "4                           SSRN Electronic Journal                   45\n",
       "5                     Journal of Cleaner Production                   47\n",
       "6     International Journal of Production Economics                   53\n",
       "7                                    Sustainability                   57\n",
       "8      International Journal of Production Research                   62\n",
       "9  International Journal of Supply Chain Management                  119"
      ]
     },
     "execution_count": 88,
     "metadata": {},
     "output_type": "execute_result"
    }
   ],
   "source": [
    "d = [top10_dict]\n",
    "top_df = pd.DataFrame.from_dict(d)\n",
    "top_df = pd.melt(top_df).rename(columns={\n",
    "    'variable':'publisher',\n",
    "    'value': 'number_publications'})\n",
    "top_df"
   ]
  },
  {
   "cell_type": "code",
   "execution_count": 90,
   "metadata": {},
   "outputs": [],
   "source": [
    "top_df.to_csv('./data-crawling/top-ten-publisher.csv', index=False)"
   ]
  },
  {
   "cell_type": "code",
   "execution_count": 92,
   "metadata": {},
   "outputs": [
    {
     "data": {
      "text/plain": [
       "<AxesSubplot:ylabel='publisher'>"
      ]
     },
     "execution_count": 92,
     "metadata": {},
     "output_type": "execute_result"
    },
    {
     "data": {
      "image/png": "[encoded data removed]",
      "text/plain": [
       "<Figure size 432x288 with 1 Axes>"
      ]
     },
     "metadata": {
      "needs_background": "light"
     },
     "output_type": "display_data"
    }
   ],
   "source": [
    "# # how to plot from dictionary\n",
    "# plt.barh(*zip(*top10_dict.items()))\n",
    "# plt.show()\n",
    "\n",
    "top_df.plot(kind='barh', x='publisher', y='number_publications')\n"
   ]
  },
  {
   "cell_type": "code",
   "execution_count": 34,
   "metadata": {},
   "outputs": [
    {
     "name": "stdout",
     "output_type": "stream",
     "text": [
      "25 y\n",
      "29 y\n",
      "34 y\n",
      "37 y\n",
      "45 y\n",
      "47 y\n",
      "53 y\n",
      "57 y\n",
      "62 y\n",
      "119 y\n"
     ]
    }
   ],
   "source": [
    "for i in unique_publisher:\n",
    "    print(i, 'y')"
   ]
  },
  {
   "cell_type": "code",
   "execution_count": 93,
   "metadata": {},
   "outputs": [],
   "source": [
    "top_publisher = df['publisher'].value_counts()[:10].sort_values(ascending=True).index.tolist()"
   ]
  },
  {
   "cell_type": "code",
   "execution_count": 94,
   "metadata": {},
   "outputs": [
    {
     "data": {
      "text/plain": [
       "['Computers and Industrial Engineering',\n",
       " 'Production Planning and Control',\n",
       " 'IEEE Access',\n",
       " 'Supply Chain Management',\n",
       " 'SSRN Electronic Journal',\n",
       " 'Journal of Cleaner Production',\n",
       " 'International Journal of Production Economics',\n",
       " 'Sustainability',\n",
       " 'International Journal of Production Research',\n",
       " 'International Journal of Supply Chain Management']"
      ]
     },
     "execution_count": 94,
     "metadata": {},
     "output_type": "execute_result"
    }
   ],
   "source": [
    "top_publisher"
   ]
  },
  {
   "cell_type": "code",
   "execution_count": 96,
   "metadata": {},
   "outputs": [],
   "source": [
    "all_top = []\n",
    "for tp in top_publisher:\n",
    "    data = df[df['publisher'] == tp]\n",
    "    all_top.append(data)"
   ]
  },
  {
   "cell_type": "code",
   "execution_count": 97,
   "metadata": {},
   "outputs": [],
   "source": [
    "for d in range(len(all_top)):\n",
    "    all_top[d] = all_top[d].reset_index(drop=True)"
   ]
  },
  {
   "cell_type": "code",
   "execution_count": 105,
   "metadata": {},
   "outputs": [
    {
     "data": {
      "text/plain": [
       "10"
      ]
     },
     "execution_count": 105,
     "metadata": {},
     "output_type": "execute_result"
    }
   ],
   "source": [
    "len(all_top)"
   ]
  },
  {
   "cell_type": "code",
   "execution_count": 114,
   "metadata": {},
   "outputs": [
    {
     "data": {
      "text/plain": [
       "2015     1\n",
       "2013     1\n",
       "2012     1\n",
       "2011     1\n",
       "2018     1\n",
       "2017     1\n",
       "2020     9\n",
       "2019    10\n",
       "Name: year_published, dtype: int64"
      ]
     },
     "execution_count": 114,
     "metadata": {},
     "output_type": "execute_result"
    }
   ],
   "source": [
    "all_top[0]['year_published'].value_counts().sort_values(ascending=True)\n",
    "# all_top[0]['publisher'].value_counts().index.tolist()\n",
    "# len(all_top[9])"
   ]
  },
  {
   "cell_type": "code",
   "execution_count": 116,
   "metadata": {},
   "outputs": [],
   "source": [
    "display_data = {}\n",
    "for i in range(len(all_top)):\n",
    "    year = all_top[i]['year_published'].value_counts().sort_values(ascending=True).index.tolist()\n",
    "    year_freq = all_top[i]['year_published'].value_counts().sort_values(ascending=True).tolist()\n",
    "    publsh = all_top[i]['publisher'].value_counts().index.tolist()\n",
    "    year_data = {}\n",
    "    for i in range(len(year)):\n",
    "        year_data[year[i]] = year_freq[i]\n",
    "    display_data[publsh[0]] = year_data"
   ]
  },
  {
   "cell_type": "code",
   "execution_count": 117,
   "metadata": {},
   "outputs": [
    {
     "data": {
      "text/plain": [
       "{'Computers and Industrial Engineering': {2015: 1,\n",
       "  2013: 1,\n",
       "  2012: 1,\n",
       "  2011: 1,\n",
       "  2018: 1,\n",
       "  2017: 1,\n",
       "  2020: 9,\n",
       "  2019: 10},\n",
       " 'Production Planning and Control': {2014: 1,\n",
       "  2012: 1,\n",
       "  2007: 1,\n",
       "  2021: 1,\n",
       "  2015: 2,\n",
       "  2019: 2,\n",
       "  2016: 3,\n",
       "  2017: 4,\n",
       "  2020: 14},\n",
       " 'IEEE Access': {2017: 1, 2018: 3, 2019: 13, 2020: 17},\n",
       " 'Supply Chain Management': {2017: 1,\n",
       "  2015: 1,\n",
       "  2013: 1,\n",
       "  2012: 1,\n",
       "  2010: 1,\n",
       "  2009: 1,\n",
       "  2005: 1,\n",
       "  2004: 1,\n",
       "  2002: 1,\n",
       "  2018: 2,\n",
       "  2008: 2,\n",
       "  2014: 3,\n",
       "  2007: 3,\n",
       "  2016: 4,\n",
       "  2020: 5,\n",
       "  2019: 9},\n",
       " 'SSRN Electronic Journal': {2005: 1,\n",
       "  2016: 2,\n",
       "  2013: 2,\n",
       "  2012: 2,\n",
       "  2011: 2,\n",
       "  2015: 4,\n",
       "  2017: 5,\n",
       "  2014: 5,\n",
       "  2020: 7,\n",
       "  2018: 7,\n",
       "  2019: 8},\n",
       " 'Journal of Cleaner Production': {2021: 1,\n",
       "  2016: 1,\n",
       "  2015: 1,\n",
       "  2013: 1,\n",
       "  2010: 1,\n",
       "  2008: 1,\n",
       "  2017: 8,\n",
       "  2019: 10,\n",
       "  2018: 10,\n",
       "  2020: 13},\n",
       " 'International Journal of Production Economics': {2013: 1,\n",
       "  2007: 1,\n",
       "  2002: 1,\n",
       "  2012: 2,\n",
       "  2011: 2,\n",
       "  2008: 2,\n",
       "  2009: 3,\n",
       "  2018: 4,\n",
       "  2021: 5,\n",
       "  2015: 5,\n",
       "  2019: 6,\n",
       "  2017: 6,\n",
       "  2014: 6,\n",
       "  2020: 9},\n",
       " 'Sustainability': {2021: 1,\n",
       "  2015: 1,\n",
       "  2017: 2,\n",
       "  2016: 2,\n",
       "  2018: 15,\n",
       "  2019: 16,\n",
       "  2020: 20},\n",
       " 'International Journal of Production Research': {2016: 1,\n",
       "  2014: 1,\n",
       "  2007: 1,\n",
       "  2012: 2,\n",
       "  2011: 2,\n",
       "  2010: 2,\n",
       "  2009: 2,\n",
       "  2005: 2,\n",
       "  2013: 3,\n",
       "  2017: 6,\n",
       "  2018: 7,\n",
       "  2019: 11,\n",
       "  2020: 22},\n",
       " 'International Journal of Supply Chain Management': {2013: 1,\n",
       "  2016: 3,\n",
       "  2014: 3,\n",
       "  2018: 4,\n",
       "  2017: 5,\n",
       "  2020: 47,\n",
       "  2019: 56}}"
      ]
     },
     "execution_count": 117,
     "metadata": {},
     "output_type": "execute_result"
    }
   ],
   "source": [
    "display_data"
   ]
  },
  {
   "cell_type": "code",
   "execution_count": 118,
   "metadata": {},
   "outputs": [],
   "source": [
    "dd_df = pd.DataFrame.from_dict(display_data)"
   ]
  },
  {
   "cell_type": "code",
   "execution_count": 124,
   "metadata": {},
   "outputs": [],
   "source": [
    "dd_df = dd_df.sort_index()"
   ]
  },
  {
   "cell_type": "code",
   "execution_count": 182,
   "metadata": {},
   "outputs": [
    {
     "data": {
      "text/html": [
       "<div>\n",
       "<style scoped>\n",
       "    .dataframe tbody tr th:only-of-type {\n",
       "        vertical-align: middle;\n",
       "    }\n",
       "\n",
       "    .dataframe tbody tr th {\n",
       "        vertical-align: top;\n",
       "    }\n",
       "\n",
       "    .dataframe thead th {\n",
       "        text-align: right;\n",
       "    }\n",
       "</style>\n",
       "<table border=\"1\" class=\"dataframe\">\n",
       "  <thead>\n",
       "    <tr style=\"text-align: right;\">\n",
       "      <th></th>\n",
       "      <th>Computers and Industrial Engineering</th>\n",
       "      <th>Production Planning and Control</th>\n",
       "      <th>IEEE Access</th>\n",
       "      <th>Supply Chain Management</th>\n",
       "      <th>SSRN Electronic Journal</th>\n",
       "      <th>Journal of Cleaner Production</th>\n",
       "      <th>International Journal of Production Economics</th>\n",
       "      <th>Sustainability</th>\n",
       "      <th>International Journal of Production Research</th>\n",
       "      <th>International Journal of Supply Chain Management</th>\n",
       "    </tr>\n",
       "  </thead>\n",
       "  <tbody>\n",
       "    <tr>\n",
       "      <th>2002</th>\n",
       "      <td>NaN</td>\n",
       "      <td>NaN</td>\n",
       "      <td>NaN</td>\n",
       "      <td>1.0</td>\n",
       "      <td>NaN</td>\n",
       "      <td>NaN</td>\n",
       "      <td>1.0</td>\n",
       "      <td>NaN</td>\n",
       "      <td>NaN</td>\n",
       "      <td>NaN</td>\n",
       "    </tr>\n",
       "    <tr>\n",
       "      <th>2004</th>\n",
       "      <td>NaN</td>\n",
       "      <td>NaN</td>\n",
       "      <td>NaN</td>\n",
       "      <td>1.0</td>\n",
       "      <td>NaN</td>\n",
       "      <td>NaN</td>\n",
       "      <td>NaN</td>\n",
       "      <td>NaN</td>\n",
       "      <td>NaN</td>\n",
       "      <td>NaN</td>\n",
       "    </tr>\n",
       "    <tr>\n",
       "      <th>2005</th>\n",
       "      <td>NaN</td>\n",
       "      <td>NaN</td>\n",
       "      <td>NaN</td>\n",
       "      <td>1.0</td>\n",
       "      <td>1.0</td>\n",
       "      <td>NaN</td>\n",
       "      <td>NaN</td>\n",
       "      <td>NaN</td>\n",
       "      <td>2.0</td>\n",
       "      <td>NaN</td>\n",
       "    </tr>\n",
       "    <tr>\n",
       "      <th>2007</th>\n",
       "      <td>NaN</td>\n",
       "      <td>1.0</td>\n",
       "      <td>NaN</td>\n",
       "      <td>3.0</td>\n",
       "      <td>NaN</td>\n",
       "      <td>NaN</td>\n",
       "      <td>1.0</td>\n",
       "      <td>NaN</td>\n",
       "      <td>1.0</td>\n",
       "      <td>NaN</td>\n",
       "    </tr>\n",
       "    <tr>\n",
       "      <th>2008</th>\n",
       "      <td>NaN</td>\n",
       "      <td>NaN</td>\n",
       "      <td>NaN</td>\n",
       "      <td>2.0</td>\n",
       "      <td>NaN</td>\n",
       "      <td>1.0</td>\n",
       "      <td>2.0</td>\n",
       "      <td>NaN</td>\n",
       "      <td>NaN</td>\n",
       "      <td>NaN</td>\n",
       "    </tr>\n",
       "    <tr>\n",
       "      <th>2009</th>\n",
       "      <td>NaN</td>\n",
       "      <td>NaN</td>\n",
       "      <td>NaN</td>\n",
       "      <td>1.0</td>\n",
       "      <td>NaN</td>\n",
       "      <td>NaN</td>\n",
       "      <td>3.0</td>\n",
       "      <td>NaN</td>\n",
       "      <td>2.0</td>\n",
       "      <td>NaN</td>\n",
       "    </tr>\n",
       "    <tr>\n",
       "      <th>2010</th>\n",
       "      <td>NaN</td>\n",
       "      <td>NaN</td>\n",
       "      <td>NaN</td>\n",
       "      <td>1.0</td>\n",
       "      <td>NaN</td>\n",
       "      <td>1.0</td>\n",
       "      <td>NaN</td>\n",
       "      <td>NaN</td>\n",
       "      <td>2.0</td>\n",
       "      <td>NaN</td>\n",
       "    </tr>\n",
       "    <tr>\n",
       "      <th>2011</th>\n",
       "      <td>1.0</td>\n",
       "      <td>NaN</td>\n",
       "      <td>NaN</td>\n",
       "      <td>NaN</td>\n",
       "      <td>2.0</td>\n",
       "      <td>NaN</td>\n",
       "      <td>2.0</td>\n",
       "      <td>NaN</td>\n",
       "      <td>2.0</td>\n",
       "      <td>NaN</td>\n",
       "    </tr>\n",
       "    <tr>\n",
       "      <th>2012</th>\n",
       "      <td>1.0</td>\n",
       "      <td>1.0</td>\n",
       "      <td>NaN</td>\n",
       "      <td>1.0</td>\n",
       "      <td>2.0</td>\n",
       "      <td>NaN</td>\n",
       "      <td>2.0</td>\n",
       "      <td>NaN</td>\n",
       "      <td>2.0</td>\n",
       "      <td>NaN</td>\n",
       "    </tr>\n",
       "    <tr>\n",
       "      <th>2013</th>\n",
       "      <td>1.0</td>\n",
       "      <td>NaN</td>\n",
       "      <td>NaN</td>\n",
       "      <td>1.0</td>\n",
       "      <td>2.0</td>\n",
       "      <td>1.0</td>\n",
       "      <td>1.0</td>\n",
       "      <td>NaN</td>\n",
       "      <td>3.0</td>\n",
       "      <td>1.0</td>\n",
       "    </tr>\n",
       "    <tr>\n",
       "      <th>2014</th>\n",
       "      <td>NaN</td>\n",
       "      <td>1.0</td>\n",
       "      <td>NaN</td>\n",
       "      <td>3.0</td>\n",
       "      <td>5.0</td>\n",
       "      <td>NaN</td>\n",
       "      <td>6.0</td>\n",
       "      <td>NaN</td>\n",
       "      <td>1.0</td>\n",
       "      <td>3.0</td>\n",
       "    </tr>\n",
       "    <tr>\n",
       "      <th>2015</th>\n",
       "      <td>1.0</td>\n",
       "      <td>2.0</td>\n",
       "      <td>NaN</td>\n",
       "      <td>1.0</td>\n",
       "      <td>4.0</td>\n",
       "      <td>1.0</td>\n",
       "      <td>5.0</td>\n",
       "      <td>1.0</td>\n",
       "      <td>NaN</td>\n",
       "      <td>NaN</td>\n",
       "    </tr>\n",
       "    <tr>\n",
       "      <th>2016</th>\n",
       "      <td>NaN</td>\n",
       "      <td>3.0</td>\n",
       "      <td>NaN</td>\n",
       "      <td>4.0</td>\n",
       "      <td>2.0</td>\n",
       "      <td>1.0</td>\n",
       "      <td>NaN</td>\n",
       "      <td>2.0</td>\n",
       "      <td>1.0</td>\n",
       "      <td>3.0</td>\n",
       "    </tr>\n",
       "    <tr>\n",
       "      <th>2017</th>\n",
       "      <td>1.0</td>\n",
       "      <td>4.0</td>\n",
       "      <td>1.0</td>\n",
       "      <td>1.0</td>\n",
       "      <td>5.0</td>\n",
       "      <td>8.0</td>\n",
       "      <td>6.0</td>\n",
       "      <td>2.0</td>\n",
       "      <td>6.0</td>\n",
       "      <td>5.0</td>\n",
       "    </tr>\n",
       "    <tr>\n",
       "      <th>2018</th>\n",
       "      <td>1.0</td>\n",
       "      <td>NaN</td>\n",
       "      <td>3.0</td>\n",
       "      <td>2.0</td>\n",
       "      <td>7.0</td>\n",
       "      <td>10.0</td>\n",
       "      <td>4.0</td>\n",
       "      <td>15.0</td>\n",
       "      <td>7.0</td>\n",
       "      <td>4.0</td>\n",
       "    </tr>\n",
       "    <tr>\n",
       "      <th>2019</th>\n",
       "      <td>10.0</td>\n",
       "      <td>2.0</td>\n",
       "      <td>13.0</td>\n",
       "      <td>9.0</td>\n",
       "      <td>8.0</td>\n",
       "      <td>10.0</td>\n",
       "      <td>6.0</td>\n",
       "      <td>16.0</td>\n",
       "      <td>11.0</td>\n",
       "      <td>56.0</td>\n",
       "    </tr>\n",
       "    <tr>\n",
       "      <th>2020</th>\n",
       "      <td>9.0</td>\n",
       "      <td>14.0</td>\n",
       "      <td>17.0</td>\n",
       "      <td>5.0</td>\n",
       "      <td>7.0</td>\n",
       "      <td>13.0</td>\n",
       "      <td>9.0</td>\n",
       "      <td>20.0</td>\n",
       "      <td>22.0</td>\n",
       "      <td>47.0</td>\n",
       "    </tr>\n",
       "    <tr>\n",
       "      <th>2021</th>\n",
       "      <td>NaN</td>\n",
       "      <td>1.0</td>\n",
       "      <td>NaN</td>\n",
       "      <td>NaN</td>\n",
       "      <td>NaN</td>\n",
       "      <td>1.0</td>\n",
       "      <td>5.0</td>\n",
       "      <td>1.0</td>\n",
       "      <td>NaN</td>\n",
       "      <td>NaN</td>\n",
       "    </tr>\n",
       "  </tbody>\n",
       "</table>\n",
       "</div>"
      ],
      "text/plain": [
       "      Computers and Industrial Engineering  Production Planning and Control  \\\n",
       "2002                                   NaN                              NaN   \n",
       "2004                                   NaN                              NaN   \n",
       "2005                                   NaN                              NaN   \n",
       "2007                                   NaN                              1.0   \n",
       "2008                                   NaN                              NaN   \n",
       "2009                                   NaN                              NaN   \n",
       "2010                                   NaN                              NaN   \n",
       "2011                                   1.0                              NaN   \n",
       "2012                                   1.0                              1.0   \n",
       "2013                                   1.0                              NaN   \n",
       "2014                                   NaN                              1.0   \n",
       "2015                                   1.0                              2.0   \n",
       "2016                                   NaN                              3.0   \n",
       "2017                                   1.0                              4.0   \n",
       "2018                                   1.0                              NaN   \n",
       "2019                                  10.0                              2.0   \n",
       "2020                                   9.0                             14.0   \n",
       "2021                                   NaN                              1.0   \n",
       "\n",
       "      IEEE Access  Supply Chain Management  SSRN Electronic Journal  \\\n",
       "2002          NaN                      1.0                      NaN   \n",
       "2004          NaN                      1.0                      NaN   \n",
       "2005          NaN                      1.0                      1.0   \n",
       "2007          NaN                      3.0                      NaN   \n",
       "2008          NaN                      2.0                      NaN   \n",
       "2009          NaN                      1.0                      NaN   \n",
       "2010          NaN                      1.0                      NaN   \n",
       "2011          NaN                      NaN                      2.0   \n",
       "2012          NaN                      1.0                      2.0   \n",
       "2013          NaN                      1.0                      2.0   \n",
       "2014          NaN                      3.0                      5.0   \n",
       "2015          NaN                      1.0                      4.0   \n",
       "2016          NaN                      4.0                      2.0   \n",
       "2017          1.0                      1.0                      5.0   \n",
       "2018          3.0                      2.0                      7.0   \n",
       "2019         13.0                      9.0                      8.0   \n",
       "2020         17.0                      5.0                      7.0   \n",
       "2021          NaN                      NaN                      NaN   \n",
       "\n",
       "      Journal of Cleaner Production  \\\n",
       "2002                            NaN   \n",
       "2004                            NaN   \n",
       "2005                            NaN   \n",
       "2007                            NaN   \n",
       "2008                            1.0   \n",
       "2009                            NaN   \n",
       "2010                            1.0   \n",
       "2011                            NaN   \n",
       "2012                            NaN   \n",
       "2013                            1.0   \n",
       "2014                            NaN   \n",
       "2015                            1.0   \n",
       "2016                            1.0   \n",
       "2017                            8.0   \n",
       "2018                           10.0   \n",
       "2019                           10.0   \n",
       "2020                           13.0   \n",
       "2021                            1.0   \n",
       "\n",
       "      International Journal of Production Economics  Sustainability  \\\n",
       "2002                                            1.0             NaN   \n",
       "2004                                            NaN             NaN   \n",
       "2005                                            NaN             NaN   \n",
       "2007                                            1.0             NaN   \n",
       "2008                                            2.0             NaN   \n",
       "2009                                            3.0             NaN   \n",
       "2010                                            NaN             NaN   \n",
       "2011                                            2.0             NaN   \n",
       "2012                                            2.0             NaN   \n",
       "2013                                            1.0             NaN   \n",
       "2014                                            6.0             NaN   \n",
       "2015                                            5.0             1.0   \n",
       "2016                                            NaN             2.0   \n",
       "2017                                            6.0             2.0   \n",
       "2018                                            4.0            15.0   \n",
       "2019                                            6.0            16.0   \n",
       "2020                                            9.0            20.0   \n",
       "2021                                            5.0             1.0   \n",
       "\n",
       "      International Journal of Production Research  \\\n",
       "2002                                           NaN   \n",
       "2004                                           NaN   \n",
       "2005                                           2.0   \n",
       "2007                                           1.0   \n",
       "2008                                           NaN   \n",
       "2009                                           2.0   \n",
       "2010                                           2.0   \n",
       "2011                                           2.0   \n",
       "2012                                           2.0   \n",
       "2013                                           3.0   \n",
       "2014                                           1.0   \n",
       "2015                                           NaN   \n",
       "2016                                           1.0   \n",
       "2017                                           6.0   \n",
       "2018                                           7.0   \n",
       "2019                                          11.0   \n",
       "2020                                          22.0   \n",
       "2021                                           NaN   \n",
       "\n",
       "      International Journal of Supply Chain Management  \n",
       "2002                                               NaN  \n",
       "2004                                               NaN  \n",
       "2005                                               NaN  \n",
       "2007                                               NaN  \n",
       "2008                                               NaN  \n",
       "2009                                               NaN  \n",
       "2010                                               NaN  \n",
       "2011                                               NaN  \n",
       "2012                                               NaN  \n",
       "2013                                               1.0  \n",
       "2014                                               3.0  \n",
       "2015                                               NaN  \n",
       "2016                                               3.0  \n",
       "2017                                               5.0  \n",
       "2018                                               4.0  \n",
       "2019                                              56.0  \n",
       "2020                                              47.0  \n",
       "2021                                               NaN  "
      ]
     },
     "execution_count": 182,
     "metadata": {},
     "output_type": "execute_result"
    }
   ],
   "source": [
    "dd_df"
   ]
  },
  {
   "cell_type": "code",
   "execution_count": 135,
   "metadata": {},
   "outputs": [
    {
     "data": {
      "text/plain": [
       "18"
      ]
     },
     "execution_count": 135,
     "metadata": {},
     "output_type": "execute_result"
    }
   ],
   "source": [
    "len(dd_df)"
   ]
  },
  {
   "cell_type": "code",
   "execution_count": 148,
   "metadata": {},
   "outputs": [],
   "source": [
    "def SerToArr(series):\n",
    "    return [series.index, series.to_numpy()]"
   ]
  },
  {
   "cell_type": "code",
   "execution_count": 195,
   "metadata": {},
   "outputs": [
    {
     "data": {
      "image/png": "[encoded data removed]",
      "text/plain": [
       "<Figure size 432x288 with 1 Axes>"
      ]
     },
     "metadata": {
      "needs_background": "light"
     },
     "output_type": "display_data"
    }
   ],
   "source": [
    "for column in dd_df.columns:\n",
    "    series = pd.Series(dd_df[column])\n",
    "    plt.plot(*SerToArr(series.dropna()), linestyle='-', marker='o', label=column)\n",
    "#     print(column)\n",
    "# plt.figure(figsize=(200,100)).gca()\n",
    "plt.legend()\n",
    "plt.show()"
   ]
  },
  {
   "cell_type": "code",
   "execution_count": 159,
   "metadata": {},
   "outputs": [
    {
     "name": "stdout",
     "output_type": "stream",
     "text": [
      "Computers and Industrial Engineering\n",
      "Production Planning and Control\n",
      "IEEE Access\n",
      "Supply Chain Management\n",
      "SSRN Electronic Journal\n",
      "Journal of Cleaner Production\n",
      "International Journal of Production Economics\n",
      "Sustainability\n",
      "International Journal of Production Research\n",
      "International Journal of Supply Chain Management\n"
     ]
    }
   ],
   "source": [
    "for column in dd_df.columns:\n",
    "    print(column)"
   ]
  },
  {
   "cell_type": "code",
   "execution_count": 194,
   "metadata": {},
   "outputs": [
    {
     "data": {
      "image/png": "[encoded data removed]",
      "text/plain": [
       "<Figure size 432x288 with 1 Axes>"
      ]
     },
     "metadata": {
      "needs_background": "light"
     },
     "output_type": "display_data"
    }
   ],
   "source": [
    "series1 = pd.Series(dd_df[dd_df.columns[9]])\n",
    "series2 = pd.Series(dd_df[dd_df.columns[8]])\n",
    "series3 = pd.Series(dd_df[dd_df.columns[7]])\n",
    "series4 = pd.Series(dd_df[dd_df.columns[6]])\n",
    "series5 = pd.Series(dd_df[dd_df.columns[5]])\n",
    "\n",
    "# print(series)\n",
    "plt.plot(*SerToArr(series1.dropna()), linestyle='-', marker='o', label=dd_df.columns[9])\n",
    "plt.plot(*SerToArr(series2.dropna()), linestyle='-', marker='o', label=dd_df.columns[8])\n",
    "plt.plot(*SerToArr(series3.dropna()), linestyle='-', marker='o', label=dd_df.columns[7])\n",
    "plt.plot(*SerToArr(series4.dropna()), linestyle='-', marker='o', label=dd_df.columns[6])\n",
    "plt.plot(*SerToArr(series5.dropna()), linestyle='-', marker='o', label=dd_df.columns[5])\n",
    "\n",
    "plt.legend()\n",
    "plt.show()"
   ]
  },
  {
   "cell_type": "code",
   "execution_count": null,
   "metadata": {},
   "outputs": [],
   "source": []
  }
 ],
 "metadata": {
  "kernelspec": {
   "display_name": "Python 3",
   "language": "python",
   "name": "python3"
  },
  "language_info": {
   "codemirror_mode": {
    "name": "ipython",
    "version": 3
   },
   "file_extension": ".py",
   "mimetype": "text/x-python",
   "name": "python",
   "nbconvert_exporter": "python",
   "pygments_lexer": "ipython3",
   "version": "3.7.4"
  }
 },
 "nbformat": 4,
 "nbformat_minor": 4
}
