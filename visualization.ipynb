{
 "cells": [
  {
   "cell_type": "markdown",
   "metadata": {},
   "source": [
    "# Join and Cleaning Data"
   ]
  },
  {
   "cell_type": "code",
   "execution_count": 1,
   "metadata": {},
   "outputs": [],
   "source": [
    "# import all needed packages\n",
    "import matplotlib.pyplot as plt\n",
    "import pandas as pd\n",
    "import re"
   ]
  },
  {
   "cell_type": "code",
   "execution_count": 2,
   "metadata": {},
   "outputs": [],
   "source": [
    "# import data\n",
    "df1 = pd.read_csv('./data-crawling/digital-supply-chain-details.csv')\n",
    "df2 = pd.read_csv('./data-crawling/supply-chain-technology-details.csv')\n",
    "\n",
    "# concat data frames\n",
    "frames = pd.concat([df1, df2], ignore_index=True)\n",
    "\n",
    "# remove column '_id'\n",
    "frames = frames.drop(['_id'], axis=1)\n",
    "\n",
    "# remove duplicated rows\n",
    "frames = frames.drop_duplicates()\n",
    "\n",
    "# reset index\n",
    "frames = frames.reset_index(drop=True)"
   ]
  },
  {
   "cell_type": "code",
   "execution_count": 3,
   "metadata": {},
   "outputs": [
    {
     "name": "stdout",
     "output_type": "stream",
     "text": [
      "                                                 url  \\\n",
      "0  https://www.mendeley.com/catalogue/77851670-19...   \n",
      "1  https://www.mendeley.com/catalogue/ee471ccc-46...   \n",
      "2  https://www.mendeley.com/catalogue/794eacdc-05...   \n",
      "3  https://www.mendeley.com/catalogue/4be64c43-87...   \n",
      "4  https://www.mendeley.com/catalogue/5652f74d-17...   \n",
      "\n",
      "                                               title  \\\n",
      "0  Managing the digital supply chain: The role of...   \n",
      "1  Dynamic capabilities and institutional theorie...   \n",
      "2  Digital Supply Chain: Literature review and a ...   \n",
      "3  Digital supply chain through dynamic inventory...   \n",
      "4  A digital supply chain twin for managing the d...   \n",
      "\n",
      "                                 publihser  \\\n",
      "0                Technovation (2020) 96-97   \n",
      "1  Supply Chain Forum (2020) 21(3) 139-157   \n",
      "2  Computers in Industry (2018) 97 157-177   \n",
      "3                 Mathematics (2019) 7(12)   \n",
      "4   Production Planning and Control (2020)   \n",
      "\n",
      "                               doc_id  \\\n",
      "0  10.1016/j.technovation.2020.102121   \n",
      "1       10.1080/16258312.2020.1757369   \n",
      "2       10.1016/j.compind.2018.02.010   \n",
      "3                 10.3390/MATH7121235   \n",
      "4       10.1080/09537287.2020.1768450   \n",
      "\n",
      "                                             authors  \\\n",
      "0  [\"Nasiri M\",\"Ukko J\",\"Saunila M\",\"et al.See mo...   \n",
      "1  [\"Gupta S\",\"Modgil S\",\"Gunasekaran A\",\"et al.S...   \n",
      "2                      [\"Büyüközkan G\",\"Göçer F\",\"\"]   \n",
      "3                               [\"de Giovanni P\",\"\"]   \n",
      "4                         [\"Ivanov D\",\"Dolgui A\",\"\"]   \n",
      "\n",
      "                                            keywords  \\\n",
      "0  [\"Collaboration\",\"Digital supply chain\",\"Digit...   \n",
      "1  [\"Industry 4.0\",\"digital supply chain\",\"dynami...   \n",
      "2  [\"DSC framework\",\"Digital Supply Chain (DSC)\",...   \n",
      "3  [\"Digital supply chain\",\"Dynamic inventory\",\"R...   \n",
      "4  [\"Industry 4.0\",\"Supply chain\",\"data analytics...   \n",
      "\n",
      "                                            abstract  \n",
      "0  This study investigates the approach required ...  \n",
      "1  This study explores the firm’s orientation in ...  \n",
      "2  Suppliers, partners, companies and dealers in ...  \n",
      "3  This paper develops a digital supply chain gam...  \n",
      "4  We theorize a notion of a digital supply chain...  \n",
      "<class 'pandas.core.frame.DataFrame'>\n",
      "RangeIndex: 3698 entries, 0 to 3697\n",
      "Data columns (total 7 columns):\n",
      " #   Column     Non-Null Count  Dtype \n",
      "---  ------     --------------  ----- \n",
      " 0   url        3698 non-null   object\n",
      " 1   title      3698 non-null   object\n",
      " 2   publihser  3698 non-null   object\n",
      " 3   doc_id     3698 non-null   object\n",
      " 4   authors    3698 non-null   object\n",
      " 5   keywords   3698 non-null   object\n",
      " 6   abstract   3694 non-null   object\n",
      "dtypes: object(7)\n",
      "memory usage: 202.4+ KB\n",
      "None\n"
     ]
    }
   ],
   "source": [
    "print(frames.head())\n",
    "print(frames.info())"
   ]
  },
  {
   "cell_type": "code",
   "execution_count": 4,
   "metadata": {},
   "outputs": [],
   "source": [
    "# # export to csv\n",
    "# frames.to_csv('./data-crawling/raw-data.csv', index=False)"
   ]
  },
  {
   "cell_type": "markdown",
   "metadata": {},
   "source": [
    "# Extract Data\n",
    "extracting publisher and year from column 'publisher'"
   ]
  },
  {
   "cell_type": "code",
   "execution_count": 5,
   "metadata": {},
   "outputs": [],
   "source": [
    "publisher = pd.read_csv('./data-crawling/raw-data.csv', usecols=['publihser'])"
   ]
  },
  {
   "cell_type": "code",
   "execution_count": 6,
   "metadata": {},
   "outputs": [
    {
     "name": "stdout",
     "output_type": "stream",
     "text": [
      "                                 publihser\n",
      "0                Technovation (2020) 96-97\n",
      "1  Supply Chain Forum (2020) 21(3) 139-157\n",
      "2  Computers in Industry (2018) 97 157-177\n",
      "3                 Mathematics (2019) 7(12)\n",
      "4   Production Planning and Control (2020)\n",
      "<class 'pandas.core.frame.DataFrame'>\n",
      "RangeIndex: 3698 entries, 0 to 3697\n",
      "Data columns (total 1 columns):\n",
      " #   Column     Non-Null Count  Dtype \n",
      "---  ------     --------------  ----- \n",
      " 0   publihser  3698 non-null   object\n",
      "dtypes: object(1)\n",
      "memory usage: 29.0+ KB\n",
      "None\n"
     ]
    }
   ],
   "source": [
    "print(publisher.head())\n",
    "print(publisher.info())"
   ]
  },
  {
   "cell_type": "code",
   "execution_count": 7,
   "metadata": {},
   "outputs": [],
   "source": [
    "def search_year(text):\n",
    "    \"\"\"get published year from text\"\"\"\n",
    "    all_years = ['1990', '1991', '1992', '1993', '1994', '1995', \n",
    "                 '1996', '1997', '1998', '1999', '2000', '2001',\n",
    "                 '2002', '2003', '2004', '2005', '2006', '2007',\n",
    "                 '2008', '2009', '2010', '2011', '2012', '2013',\n",
    "                 '2014', '2015', '2016', '2017', '2018', '2019',\n",
    "                 '2020', '2021']\n",
    "    for year in all_years:\n",
    "        y = re.search(year, text)\n",
    "        if y:\n",
    "            return year"
   ]
  },
  {
   "cell_type": "code",
   "execution_count": 8,
   "metadata": {},
   "outputs": [],
   "source": [
    "def search_publisher(text):\n",
    "    \"\"\"get publisher's name from text\"\"\"\n",
    "    publisher = []\n",
    "    text = text.lower()\n",
    "    items = text.split()\n",
    "    for elem in items:\n",
    "        if elem.isalpha():\n",
    "            publisher.append(elem)\n",
    "    \n",
    "    return ' '.join(publisher)"
   ]
  },
  {
   "cell_type": "markdown",
   "metadata": {},
   "source": [
    "# Functions Test"
   ]
  },
  {
   "cell_type": "code",
   "execution_count": 9,
   "metadata": {},
   "outputs": [
    {
     "name": "stdout",
     "output_type": "stream",
     "text": [
      "technovation 2020\n",
      "supply chain forum 2020\n",
      "computers in industry 2018\n",
      "mathematics 2019\n",
      "production planning and control 2020\n",
      "journal of modelling in management 2020\n",
      "benchmarking 2019\n",
      "international journal of supply chain management 2020\n",
      "international journal of supply chain management 2020\n",
      "journal of manufacturing technology management 2019\n"
     ]
    }
   ],
   "source": [
    "sample = [publisher['publihser'][i] for i in range(10)]\n",
    "for s in sample:\n",
    "    year = search_year(s)\n",
    "    p = search_publisher(s)\n",
    "    print(p, year)"
   ]
  },
  {
   "cell_type": "markdown",
   "metadata": {},
   "source": [
    "# Apply function search_year() and search_publisher() to dataframe"
   ]
  },
  {
   "cell_type": "code",
   "execution_count": 10,
   "metadata": {},
   "outputs": [],
   "source": [
    "splitted_data = []\n",
    "\n",
    "for p in publisher['publihser']:\n",
    "    publish = search_publisher(p)\n",
    "    year = search_year(p)\n",
    "    splitted_data.append([publish, year])"
   ]
  },
  {
   "cell_type": "code",
   "execution_count": 11,
   "metadata": {},
   "outputs": [],
   "source": [
    "# create new DataFrame\n",
    "df = pd.DataFrame(splitted_data, columns=['publisher', 'year_published'])\n",
    "\n",
    "# drop NA row\n",
    "df = df.dropna()\n",
    "\n",
    "# remove empty string\n",
    "df = df[df['publisher'].astype(bool)]\n",
    "\n",
    "# reset index\n",
    "df = df.reset_index(drop=True)\n",
    "\n",
    "# # export to new csv file\n",
    "# df.to_csv('./data-crawling/publisher-year.csv', index=False)"
   ]
  },
  {
   "cell_type": "code",
   "execution_count": 12,
   "metadata": {},
   "outputs": [
    {
     "name": "stdout",
     "output_type": "stream",
     "text": [
      "                         publisher year_published\n",
      "0                     technovation           2020\n",
      "1               supply chain forum           2020\n",
      "2            computers in industry           2018\n",
      "3                      mathematics           2019\n",
      "4  production planning and control           2020\n",
      "<class 'pandas.core.frame.DataFrame'>\n",
      "RangeIndex: 3496 entries, 0 to 3495\n",
      "Data columns (total 2 columns):\n",
      " #   Column          Non-Null Count  Dtype \n",
      "---  ------          --------------  ----- \n",
      " 0   publisher       3496 non-null   object\n",
      " 1   year_published  3496 non-null   object\n",
      "dtypes: object(2)\n",
      "memory usage: 54.8+ KB\n",
      "None\n"
     ]
    }
   ],
   "source": [
    "print(df.head())\n",
    "print(df.info())"
   ]
  },
  {
   "cell_type": "code",
   "execution_count": 13,
   "metadata": {},
   "outputs": [],
   "source": [
    "# df = pd.read_csv('./data-crawling/only-publisher.csv')\n",
    "# # df['year_published']"
   ]
  },
  {
   "cell_type": "markdown",
   "metadata": {},
   "source": [
    "# Trends year by year publication"
   ]
  },
  {
   "cell_type": "code",
   "execution_count": 14,
   "metadata": {},
   "outputs": [],
   "source": [
    "year_trends = df['year_published'].value_counts().index.tolist()\n",
    "value_trends = df['year_published'].value_counts().tolist()"
   ]
  },
  {
   "cell_type": "code",
   "execution_count": 15,
   "metadata": {},
   "outputs": [
    {
     "data": {
      "text/plain": [
       "2020    679\n",
       "2019    578\n",
       "2018    371\n",
       "2017    319\n",
       "2016    236\n",
       "2015    193\n",
       "2014    154\n",
       "2012    119\n",
       "2013    107\n",
       "2011     97\n",
       "2010     92\n",
       "2008     76\n",
       "2007     66\n",
       "2009     57\n",
       "2005     54\n",
       "2004     45\n",
       "2006     44\n",
       "2001     42\n",
       "2003     31\n",
       "2021     29\n",
       "2000     29\n",
       "2002     24\n",
       "1999     17\n",
       "1997     10\n",
       "1998      6\n",
       "1995      5\n",
       "1996      5\n",
       "1990      4\n",
       "1991      3\n",
       "1993      3\n",
       "1994      1\n",
       "Name: year_published, dtype: int64"
      ]
     },
     "execution_count": 15,
     "metadata": {},
     "output_type": "execute_result"
    }
   ],
   "source": [
    "df['year_published'].value_counts()"
   ]
  },
  {
   "cell_type": "code",
   "execution_count": 16,
   "metadata": {},
   "outputs": [],
   "source": [
    "trend_dict = {}\n",
    "for i in range(len(year_trends)):\n",
    "    trend_dict[year_trends[i]] = value_trends[i]"
   ]
  },
  {
   "cell_type": "code",
   "execution_count": 17,
   "metadata": {},
   "outputs": [],
   "source": [
    "# sorting from older year\n",
    "trend_items = trend_dict.items()\n",
    "trend_dict = sorted(trend_items)"
   ]
  },
  {
   "cell_type": "code",
   "execution_count": 18,
   "metadata": {},
   "outputs": [],
   "source": [
    "# convert to DataFrame\n",
    "td = pd.DataFrame(trend_dict, columns=['year', 'number_publications'])"
   ]
  },
  {
   "cell_type": "code",
   "execution_count": 19,
   "metadata": {},
   "outputs": [],
   "source": [
    "# # extract to csv\n",
    "# td.to_csv('./data-crawling/publication-year-by-year.csv', index=False)"
   ]
  },
  {
   "cell_type": "code",
   "execution_count": 20,
   "metadata": {},
   "outputs": [],
   "source": [
    "td = pd.DataFrame(trend_dict, columns=['year', 'number_publications'])"
   ]
  },
  {
   "cell_type": "code",
   "execution_count": 21,
   "metadata": {},
   "outputs": [
    {
     "data": {
      "image/png": "[encoded data removed]",
      "text/plain": [
       "<Figure size 432x288 with 1 Axes>"
      ]
     },
     "metadata": {
      "needs_background": "light"
     },
     "output_type": "display_data"
    }
   ],
   "source": [
    "# plotting graphic of publications by year\n",
    "ax = plt.gca() #gca --> get current axis\n",
    "td.plot(kind='line',x='year', y='number_publications', ax=ax)\n",
    "plt.show()"
   ]
  },
  {
   "cell_type": "code",
   "execution_count": 22,
   "metadata": {},
   "outputs": [],
   "source": [
    "# # save graphic\n",
    "# plt.savefig('./images/trends-by-year.png')"
   ]
  },
  {
   "cell_type": "markdown",
   "metadata": {},
   "source": [
    "# Top 10 Publishers"
   ]
  },
  {
   "cell_type": "code",
   "execution_count": 23,
   "metadata": {},
   "outputs": [],
   "source": [
    "# counting publishers\n",
    "publisher_list = df['publisher'].value_counts()[:10].sort_values(ascending=True).index.tolist()\n",
    "publisher_value = df['publisher'].value_counts()[:10].sort_values(ascending=True).tolist()"
   ]
  },
  {
   "cell_type": "code",
   "execution_count": 24,
   "metadata": {},
   "outputs": [],
   "source": [
    "# create Data Frame\n",
    "top10_dict = {}\n",
    "for i in range(len(publisher_list)):\n",
    "    top10_dict[publisher_list[i]] = publisher_value[i]\n",
    "\n",
    "d = [top10_dict]\n",
    "top_df = pd.DataFrame.from_dict(d)\n",
    "top_df = pd.melt(top_df).rename(columns={\n",
    "    'variable':'publisher',\n",
    "    'value':'number_publications'\n",
    "})"
   ]
  },
  {
   "cell_type": "code",
   "execution_count": 25,
   "metadata": {},
   "outputs": [
    {
     "data": {
      "text/html": [
       "<div>\n",
       "<style scoped>\n",
       "    .dataframe tbody tr th:only-of-type {\n",
       "        vertical-align: middle;\n",
       "    }\n",
       "\n",
       "    .dataframe tbody tr th {\n",
       "        vertical-align: top;\n",
       "    }\n",
       "\n",
       "    .dataframe thead th {\n",
       "        text-align: right;\n",
       "    }\n",
       "</style>\n",
       "<table border=\"1\" class=\"dataframe\">\n",
       "  <thead>\n",
       "    <tr style=\"text-align: right;\">\n",
       "      <th></th>\n",
       "      <th>publisher</th>\n",
       "      <th>number_publications</th>\n",
       "    </tr>\n",
       "  </thead>\n",
       "  <tbody>\n",
       "    <tr>\n",
       "      <th>0</th>\n",
       "      <td>computers and industrial engineering</td>\n",
       "      <td>25</td>\n",
       "    </tr>\n",
       "    <tr>\n",
       "      <th>1</th>\n",
       "      <td>production planning and control</td>\n",
       "      <td>29</td>\n",
       "    </tr>\n",
       "    <tr>\n",
       "      <th>2</th>\n",
       "      <td>ieee access</td>\n",
       "      <td>34</td>\n",
       "    </tr>\n",
       "    <tr>\n",
       "      <th>3</th>\n",
       "      <td>supply chain management</td>\n",
       "      <td>37</td>\n",
       "    </tr>\n",
       "    <tr>\n",
       "      <th>4</th>\n",
       "      <td>ssrn electronic journal</td>\n",
       "      <td>45</td>\n",
       "    </tr>\n",
       "    <tr>\n",
       "      <th>5</th>\n",
       "      <td>journal of cleaner production</td>\n",
       "      <td>47</td>\n",
       "    </tr>\n",
       "    <tr>\n",
       "      <th>6</th>\n",
       "      <td>international journal of production economics</td>\n",
       "      <td>53</td>\n",
       "    </tr>\n",
       "    <tr>\n",
       "      <th>7</th>\n",
       "      <td>sustainability</td>\n",
       "      <td>57</td>\n",
       "    </tr>\n",
       "    <tr>\n",
       "      <th>8</th>\n",
       "      <td>international journal of production research</td>\n",
       "      <td>62</td>\n",
       "    </tr>\n",
       "    <tr>\n",
       "      <th>9</th>\n",
       "      <td>international journal of supply chain management</td>\n",
       "      <td>119</td>\n",
       "    </tr>\n",
       "  </tbody>\n",
       "</table>\n",
       "</div>"
      ],
      "text/plain": [
       "                                          publisher  number_publications\n",
       "0              computers and industrial engineering                   25\n",
       "1                   production planning and control                   29\n",
       "2                                       ieee access                   34\n",
       "3                           supply chain management                   37\n",
       "4                           ssrn electronic journal                   45\n",
       "5                     journal of cleaner production                   47\n",
       "6     international journal of production economics                   53\n",
       "7                                    sustainability                   57\n",
       "8      international journal of production research                   62\n",
       "9  international journal of supply chain management                  119"
      ]
     },
     "execution_count": 25,
     "metadata": {},
     "output_type": "execute_result"
    }
   ],
   "source": [
    "top_df"
   ]
  },
  {
   "cell_type": "code",
   "execution_count": 26,
   "metadata": {},
   "outputs": [],
   "source": [
    "# # export to_csv\n",
    "# top_df.to_csv('./data-crawling/top-ten-publishers.csv', index=False)"
   ]
  },
  {
   "cell_type": "code",
   "execution_count": 27,
   "metadata": {},
   "outputs": [
    {
     "data": {
      "image/png": "[encoded data removed]",
      "text/plain": [
       "<Figure size 432x288 with 1 Axes>"
      ]
     },
     "metadata": {
      "needs_background": "light"
     },
     "output_type": "display_data"
    }
   ],
   "source": [
    "# plot top 10 publishers graphic\n",
    "top_df.plot(kind='barh', x='publisher', y='number_publications')\n",
    "plt.show()"
   ]
  },
  {
   "cell_type": "code",
   "execution_count": 28,
   "metadata": {},
   "outputs": [],
   "source": [
    "# # save graphic\n",
    "# plt.savefig('./images/top-ten-publishers.png')"
   ]
  },
  {
   "cell_type": "markdown",
   "metadata": {},
   "source": [
    "# Publications Per Year Per Publisher"
   ]
  },
  {
   "cell_type": "code",
   "execution_count": 29,
   "metadata": {},
   "outputs": [],
   "source": [
    "all_top = []\n",
    "for tp in publisher_list:\n",
    "    data = df[df['publisher'] == tp]\n",
    "    all_top.append(data)"
   ]
  },
  {
   "cell_type": "code",
   "execution_count": 30,
   "metadata": {},
   "outputs": [],
   "source": [
    "for d in range(len(all_top)):\n",
    "    all_top[d] = all_top[d].reset_index(drop=True)"
   ]
  },
  {
   "cell_type": "code",
   "execution_count": 31,
   "metadata": {},
   "outputs": [],
   "source": [
    "display_data = {}\n",
    "for i in range(len(all_top)):\n",
    "    year = all_top[i]['year_published'].value_counts().sort_values(ascending=True).index.tolist()\n",
    "    year_freq = all_top[i]['year_published'].value_counts().sort_values(ascending=True).tolist()\n",
    "    publsh = all_top[i]['publisher'].value_counts().index.tolist()\n",
    "    year_data = {}\n",
    "    for i in range(len(year)):\n",
    "        year_data[year[i]] = year_freq[i]\n",
    "    display_data[publsh[0]] = year_data"
   ]
  },
  {
   "cell_type": "code",
   "execution_count": 32,
   "metadata": {},
   "outputs": [],
   "source": [
    "dd_df = pd.DataFrame.from_dict(display_data)"
   ]
  },
  {
   "cell_type": "code",
   "execution_count": 33,
   "metadata": {},
   "outputs": [],
   "source": [
    "dd_df = dd_df.sort_index()"
   ]
  },
  {
   "cell_type": "code",
   "execution_count": 34,
   "metadata": {},
   "outputs": [
    {
     "data": {
      "text/html": [
       "<div>\n",
       "<style scoped>\n",
       "    .dataframe tbody tr th:only-of-type {\n",
       "        vertical-align: middle;\n",
       "    }\n",
       "\n",
       "    .dataframe tbody tr th {\n",
       "        vertical-align: top;\n",
       "    }\n",
       "\n",
       "    .dataframe thead th {\n",
       "        text-align: right;\n",
       "    }\n",
       "</style>\n",
       "<table border=\"1\" class=\"dataframe\">\n",
       "  <thead>\n",
       "    <tr style=\"text-align: right;\">\n",
       "      <th></th>\n",
       "      <th>computers and industrial engineering</th>\n",
       "      <th>production planning and control</th>\n",
       "      <th>ieee access</th>\n",
       "      <th>supply chain management</th>\n",
       "      <th>ssrn electronic journal</th>\n",
       "      <th>journal of cleaner production</th>\n",
       "      <th>international journal of production economics</th>\n",
       "      <th>sustainability</th>\n",
       "      <th>international journal of production research</th>\n",
       "      <th>international journal of supply chain management</th>\n",
       "    </tr>\n",
       "  </thead>\n",
       "  <tbody>\n",
       "    <tr>\n",
       "      <th>2002</th>\n",
       "      <td>NaN</td>\n",
       "      <td>NaN</td>\n",
       "      <td>NaN</td>\n",
       "      <td>1.0</td>\n",
       "      <td>NaN</td>\n",
       "      <td>NaN</td>\n",
       "      <td>1.0</td>\n",
       "      <td>NaN</td>\n",
       "      <td>NaN</td>\n",
       "      <td>NaN</td>\n",
       "    </tr>\n",
       "    <tr>\n",
       "      <th>2004</th>\n",
       "      <td>NaN</td>\n",
       "      <td>NaN</td>\n",
       "      <td>NaN</td>\n",
       "      <td>1.0</td>\n",
       "      <td>NaN</td>\n",
       "      <td>NaN</td>\n",
       "      <td>NaN</td>\n",
       "      <td>NaN</td>\n",
       "      <td>NaN</td>\n",
       "      <td>NaN</td>\n",
       "    </tr>\n",
       "    <tr>\n",
       "      <th>2005</th>\n",
       "      <td>NaN</td>\n",
       "      <td>NaN</td>\n",
       "      <td>NaN</td>\n",
       "      <td>1.0</td>\n",
       "      <td>1.0</td>\n",
       "      <td>NaN</td>\n",
       "      <td>NaN</td>\n",
       "      <td>NaN</td>\n",
       "      <td>2.0</td>\n",
       "      <td>NaN</td>\n",
       "    </tr>\n",
       "    <tr>\n",
       "      <th>2007</th>\n",
       "      <td>NaN</td>\n",
       "      <td>1.0</td>\n",
       "      <td>NaN</td>\n",
       "      <td>3.0</td>\n",
       "      <td>NaN</td>\n",
       "      <td>NaN</td>\n",
       "      <td>1.0</td>\n",
       "      <td>NaN</td>\n",
       "      <td>1.0</td>\n",
       "      <td>NaN</td>\n",
       "    </tr>\n",
       "    <tr>\n",
       "      <th>2008</th>\n",
       "      <td>NaN</td>\n",
       "      <td>NaN</td>\n",
       "      <td>NaN</td>\n",
       "      <td>2.0</td>\n",
       "      <td>NaN</td>\n",
       "      <td>1.0</td>\n",
       "      <td>2.0</td>\n",
       "      <td>NaN</td>\n",
       "      <td>NaN</td>\n",
       "      <td>NaN</td>\n",
       "    </tr>\n",
       "    <tr>\n",
       "      <th>2009</th>\n",
       "      <td>NaN</td>\n",
       "      <td>NaN</td>\n",
       "      <td>NaN</td>\n",
       "      <td>1.0</td>\n",
       "      <td>NaN</td>\n",
       "      <td>NaN</td>\n",
       "      <td>3.0</td>\n",
       "      <td>NaN</td>\n",
       "      <td>2.0</td>\n",
       "      <td>NaN</td>\n",
       "    </tr>\n",
       "    <tr>\n",
       "      <th>2010</th>\n",
       "      <td>NaN</td>\n",
       "      <td>NaN</td>\n",
       "      <td>NaN</td>\n",
       "      <td>1.0</td>\n",
       "      <td>NaN</td>\n",
       "      <td>1.0</td>\n",
       "      <td>NaN</td>\n",
       "      <td>NaN</td>\n",
       "      <td>2.0</td>\n",
       "      <td>NaN</td>\n",
       "    </tr>\n",
       "    <tr>\n",
       "      <th>2011</th>\n",
       "      <td>1.0</td>\n",
       "      <td>NaN</td>\n",
       "      <td>NaN</td>\n",
       "      <td>NaN</td>\n",
       "      <td>2.0</td>\n",
       "      <td>NaN</td>\n",
       "      <td>2.0</td>\n",
       "      <td>NaN</td>\n",
       "      <td>2.0</td>\n",
       "      <td>NaN</td>\n",
       "    </tr>\n",
       "    <tr>\n",
       "      <th>2012</th>\n",
       "      <td>1.0</td>\n",
       "      <td>1.0</td>\n",
       "      <td>NaN</td>\n",
       "      <td>1.0</td>\n",
       "      <td>2.0</td>\n",
       "      <td>NaN</td>\n",
       "      <td>2.0</td>\n",
       "      <td>NaN</td>\n",
       "      <td>2.0</td>\n",
       "      <td>NaN</td>\n",
       "    </tr>\n",
       "    <tr>\n",
       "      <th>2013</th>\n",
       "      <td>1.0</td>\n",
       "      <td>NaN</td>\n",
       "      <td>NaN</td>\n",
       "      <td>1.0</td>\n",
       "      <td>2.0</td>\n",
       "      <td>1.0</td>\n",
       "      <td>1.0</td>\n",
       "      <td>NaN</td>\n",
       "      <td>3.0</td>\n",
       "      <td>1.0</td>\n",
       "    </tr>\n",
       "    <tr>\n",
       "      <th>2014</th>\n",
       "      <td>NaN</td>\n",
       "      <td>1.0</td>\n",
       "      <td>NaN</td>\n",
       "      <td>3.0</td>\n",
       "      <td>5.0</td>\n",
       "      <td>NaN</td>\n",
       "      <td>6.0</td>\n",
       "      <td>NaN</td>\n",
       "      <td>1.0</td>\n",
       "      <td>3.0</td>\n",
       "    </tr>\n",
       "    <tr>\n",
       "      <th>2015</th>\n",
       "      <td>1.0</td>\n",
       "      <td>2.0</td>\n",
       "      <td>NaN</td>\n",
       "      <td>1.0</td>\n",
       "      <td>4.0</td>\n",
       "      <td>1.0</td>\n",
       "      <td>5.0</td>\n",
       "      <td>1.0</td>\n",
       "      <td>NaN</td>\n",
       "      <td>NaN</td>\n",
       "    </tr>\n",
       "    <tr>\n",
       "      <th>2016</th>\n",
       "      <td>NaN</td>\n",
       "      <td>3.0</td>\n",
       "      <td>NaN</td>\n",
       "      <td>4.0</td>\n",
       "      <td>2.0</td>\n",
       "      <td>1.0</td>\n",
       "      <td>NaN</td>\n",
       "      <td>2.0</td>\n",
       "      <td>1.0</td>\n",
       "      <td>3.0</td>\n",
       "    </tr>\n",
       "    <tr>\n",
       "      <th>2017</th>\n",
       "      <td>1.0</td>\n",
       "      <td>4.0</td>\n",
       "      <td>1.0</td>\n",
       "      <td>1.0</td>\n",
       "      <td>5.0</td>\n",
       "      <td>8.0</td>\n",
       "      <td>6.0</td>\n",
       "      <td>2.0</td>\n",
       "      <td>6.0</td>\n",
       "      <td>5.0</td>\n",
       "    </tr>\n",
       "    <tr>\n",
       "      <th>2018</th>\n",
       "      <td>1.0</td>\n",
       "      <td>NaN</td>\n",
       "      <td>3.0</td>\n",
       "      <td>2.0</td>\n",
       "      <td>7.0</td>\n",
       "      <td>10.0</td>\n",
       "      <td>4.0</td>\n",
       "      <td>15.0</td>\n",
       "      <td>7.0</td>\n",
       "      <td>4.0</td>\n",
       "    </tr>\n",
       "    <tr>\n",
       "      <th>2019</th>\n",
       "      <td>10.0</td>\n",
       "      <td>2.0</td>\n",
       "      <td>13.0</td>\n",
       "      <td>9.0</td>\n",
       "      <td>8.0</td>\n",
       "      <td>10.0</td>\n",
       "      <td>6.0</td>\n",
       "      <td>16.0</td>\n",
       "      <td>11.0</td>\n",
       "      <td>56.0</td>\n",
       "    </tr>\n",
       "    <tr>\n",
       "      <th>2020</th>\n",
       "      <td>9.0</td>\n",
       "      <td>14.0</td>\n",
       "      <td>17.0</td>\n",
       "      <td>5.0</td>\n",
       "      <td>7.0</td>\n",
       "      <td>13.0</td>\n",
       "      <td>9.0</td>\n",
       "      <td>20.0</td>\n",
       "      <td>22.0</td>\n",
       "      <td>47.0</td>\n",
       "    </tr>\n",
       "    <tr>\n",
       "      <th>2021</th>\n",
       "      <td>NaN</td>\n",
       "      <td>1.0</td>\n",
       "      <td>NaN</td>\n",
       "      <td>NaN</td>\n",
       "      <td>NaN</td>\n",
       "      <td>1.0</td>\n",
       "      <td>5.0</td>\n",
       "      <td>1.0</td>\n",
       "      <td>NaN</td>\n",
       "      <td>NaN</td>\n",
       "    </tr>\n",
       "  </tbody>\n",
       "</table>\n",
       "</div>"
      ],
      "text/plain": [
       "      computers and industrial engineering  production planning and control  \\\n",
       "2002                                   NaN                              NaN   \n",
       "2004                                   NaN                              NaN   \n",
       "2005                                   NaN                              NaN   \n",
       "2007                                   NaN                              1.0   \n",
       "2008                                   NaN                              NaN   \n",
       "2009                                   NaN                              NaN   \n",
       "2010                                   NaN                              NaN   \n",
       "2011                                   1.0                              NaN   \n",
       "2012                                   1.0                              1.0   \n",
       "2013                                   1.0                              NaN   \n",
       "2014                                   NaN                              1.0   \n",
       "2015                                   1.0                              2.0   \n",
       "2016                                   NaN                              3.0   \n",
       "2017                                   1.0                              4.0   \n",
       "2018                                   1.0                              NaN   \n",
       "2019                                  10.0                              2.0   \n",
       "2020                                   9.0                             14.0   \n",
       "2021                                   NaN                              1.0   \n",
       "\n",
       "      ieee access  supply chain management  ssrn electronic journal  \\\n",
       "2002          NaN                      1.0                      NaN   \n",
       "2004          NaN                      1.0                      NaN   \n",
       "2005          NaN                      1.0                      1.0   \n",
       "2007          NaN                      3.0                      NaN   \n",
       "2008          NaN                      2.0                      NaN   \n",
       "2009          NaN                      1.0                      NaN   \n",
       "2010          NaN                      1.0                      NaN   \n",
       "2011          NaN                      NaN                      2.0   \n",
       "2012          NaN                      1.0                      2.0   \n",
       "2013          NaN                      1.0                      2.0   \n",
       "2014          NaN                      3.0                      5.0   \n",
       "2015          NaN                      1.0                      4.0   \n",
       "2016          NaN                      4.0                      2.0   \n",
       "2017          1.0                      1.0                      5.0   \n",
       "2018          3.0                      2.0                      7.0   \n",
       "2019         13.0                      9.0                      8.0   \n",
       "2020         17.0                      5.0                      7.0   \n",
       "2021          NaN                      NaN                      NaN   \n",
       "\n",
       "      journal of cleaner production  \\\n",
       "2002                            NaN   \n",
       "2004                            NaN   \n",
       "2005                            NaN   \n",
       "2007                            NaN   \n",
       "2008                            1.0   \n",
       "2009                            NaN   \n",
       "2010                            1.0   \n",
       "2011                            NaN   \n",
       "2012                            NaN   \n",
       "2013                            1.0   \n",
       "2014                            NaN   \n",
       "2015                            1.0   \n",
       "2016                            1.0   \n",
       "2017                            8.0   \n",
       "2018                           10.0   \n",
       "2019                           10.0   \n",
       "2020                           13.0   \n",
       "2021                            1.0   \n",
       "\n",
       "      international journal of production economics  sustainability  \\\n",
       "2002                                            1.0             NaN   \n",
       "2004                                            NaN             NaN   \n",
       "2005                                            NaN             NaN   \n",
       "2007                                            1.0             NaN   \n",
       "2008                                            2.0             NaN   \n",
       "2009                                            3.0             NaN   \n",
       "2010                                            NaN             NaN   \n",
       "2011                                            2.0             NaN   \n",
       "2012                                            2.0             NaN   \n",
       "2013                                            1.0             NaN   \n",
       "2014                                            6.0             NaN   \n",
       "2015                                            5.0             1.0   \n",
       "2016                                            NaN             2.0   \n",
       "2017                                            6.0             2.0   \n",
       "2018                                            4.0            15.0   \n",
       "2019                                            6.0            16.0   \n",
       "2020                                            9.0            20.0   \n",
       "2021                                            5.0             1.0   \n",
       "\n",
       "      international journal of production research  \\\n",
       "2002                                           NaN   \n",
       "2004                                           NaN   \n",
       "2005                                           2.0   \n",
       "2007                                           1.0   \n",
       "2008                                           NaN   \n",
       "2009                                           2.0   \n",
       "2010                                           2.0   \n",
       "2011                                           2.0   \n",
       "2012                                           2.0   \n",
       "2013                                           3.0   \n",
       "2014                                           1.0   \n",
       "2015                                           NaN   \n",
       "2016                                           1.0   \n",
       "2017                                           6.0   \n",
       "2018                                           7.0   \n",
       "2019                                          11.0   \n",
       "2020                                          22.0   \n",
       "2021                                           NaN   \n",
       "\n",
       "      international journal of supply chain management  \n",
       "2002                                               NaN  \n",
       "2004                                               NaN  \n",
       "2005                                               NaN  \n",
       "2007                                               NaN  \n",
       "2008                                               NaN  \n",
       "2009                                               NaN  \n",
       "2010                                               NaN  \n",
       "2011                                               NaN  \n",
       "2012                                               NaN  \n",
       "2013                                               1.0  \n",
       "2014                                               3.0  \n",
       "2015                                               NaN  \n",
       "2016                                               3.0  \n",
       "2017                                               5.0  \n",
       "2018                                               4.0  \n",
       "2019                                              56.0  \n",
       "2020                                              47.0  \n",
       "2021                                               NaN  "
      ]
     },
     "execution_count": 34,
     "metadata": {},
     "output_type": "execute_result"
    }
   ],
   "source": [
    "dd_df"
   ]
  },
  {
   "cell_type": "code",
   "execution_count": 35,
   "metadata": {},
   "outputs": [],
   "source": [
    "# # export to csv\n",
    "# dd_df.to_csv('./images/multiple-line.csv')"
   ]
  },
  {
   "cell_type": "code",
   "execution_count": 36,
   "metadata": {},
   "outputs": [],
   "source": [
    "def SerToArr(series):\n",
    "    return [series.index, series.to_numpy()]"
   ]
  },
  {
   "cell_type": "code",
   "execution_count": 37,
   "metadata": {},
   "outputs": [
    {
     "data": {
      "image/png": "[encoded data removed]",
      "text/plain": [
       "<Figure size 432x288 with 1 Axes>"
      ]
     },
     "metadata": {
      "needs_background": "light"
     },
     "output_type": "display_data"
    }
   ],
   "source": [
    "for i in range(5, len(dd_df.columns)):\n",
    "    series = pd.Series(dd_df[dd_df.columns[i]])\n",
    "    plt.plot(*SerToArr(series.dropna()), linestyle='-', marker='o', label=dd_df.columns[i])\n",
    "\n",
    "plt.legend()\n",
    "plt.show()"
   ]
  },
  {
   "cell_type": "code",
   "execution_count": 38,
   "metadata": {},
   "outputs": [
    {
     "data": {
      "image/png": "[encoded data removed]",
      "text/plain": [
       "<Figure size 432x288 with 1 Axes>"
      ]
     },
     "metadata": {
      "needs_background": "light"
     },
     "output_type": "display_data"
    }
   ],
   "source": [
    "series1 = pd.Series(dd_df[dd_df.columns[9]])\n",
    "series2 = pd.Series(dd_df[dd_df.columns[8]])\n",
    "series3 = pd.Series(dd_df[dd_df.columns[7]])\n",
    "series4 = pd.Series(dd_df[dd_df.columns[6]])\n",
    "series5 = pd.Series(dd_df[dd_df.columns[5]])\n",
    "\n",
    "plt.plot(*SerToArr(series1.dropna()), linestyle='-', marker='o', label=dd_df.columns[9])\n",
    "plt.plot(*SerToArr(series2.dropna()), linestyle='-', marker='o', label=dd_df.columns[8])\n",
    "plt.plot(*SerToArr(series3.dropna()), linestyle='-', marker='o', label=dd_df.columns[7])\n",
    "plt.plot(*SerToArr(series4.dropna()), linestyle='-', marker='o', label=dd_df.columns[6])\n",
    "plt.plot(*SerToArr(series5.dropna()), linestyle='-', marker='o', label=dd_df.columns[5])\n",
    "\n",
    "plt.legend()\n",
    "plt.show()"
   ]
  },
  {
   "cell_type": "code",
   "execution_count": null,
   "metadata": {},
   "outputs": [],
   "source": []
  }
 ],
 "metadata": {
  "kernelspec": {
   "display_name": "Python 3",
   "language": "python",
   "name": "python3"
  },
  "language_info": {
   "codemirror_mode": {
    "name": "ipython",
    "version": 3
   },
   "file_extension": ".py",
   "mimetype": "text/x-python",
   "name": "python",
   "nbconvert_exporter": "python",
   "pygments_lexer": "ipython3",
   "version": "3.7.4"
  }
 },
 "nbformat": 4,
 "nbformat_minor": 4
}
