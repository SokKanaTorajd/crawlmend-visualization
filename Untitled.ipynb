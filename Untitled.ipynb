{
 "cells": [
  {
   "cell_type": "code",
   "execution_count": 1,
   "metadata": {},
   "outputs": [],
   "source": [
    "import pandas as pd"
   ]
  },
  {
   "cell_type": "code",
   "execution_count": 2,
   "metadata": {},
   "outputs": [],
   "source": [
    "df = pd.read_csv('./data-crawling/publisher-year.csv')"
   ]
  },
  {
   "cell_type": "code",
   "execution_count": 4,
   "metadata": {},
   "outputs": [
    {
     "name": "stdout",
     "output_type": "stream",
     "text": [
      "                                             publisher  year_published\n",
      "0                                         Technovation          2020.0\n",
      "1                                   Supply Chain Forum          2020.0\n",
      "2                                Computers in Industry          2018.0\n",
      "3                                          Mathematics          2019.0\n",
      "4                      Production Planning and Control          2020.0\n",
      "...                                                ...             ...\n",
      "3693                            Ekonomska Istrazivanja          2012.0\n",
      "3694                                      Technovation          2006.0\n",
      "3695                    Cogent Business and Management          2019.0\n",
      "3696  International Journal of Supply Chain Management          2018.0\n",
      "3697                   Journal of Arts Social Sciences          2019.0\n",
      "\n",
      "[3698 rows x 2 columns]\n"
     ]
    }
   ],
   "source": [
    "print(df)"
   ]
  },
  {
   "cell_type": "code",
   "execution_count": null,
   "metadata": {},
   "outputs": [],
   "source": []
  }
 ],
 "metadata": {
  "kernelspec": {
   "display_name": "Python 3",
   "language": "python",
   "name": "python3"
  },
  "language_info": {
   "codemirror_mode": {
    "name": "ipython",
    "version": 3
   },
   "file_extension": ".py",
   "mimetype": "text/x-python",
   "name": "python",
   "nbconvert_exporter": "python",
   "pygments_lexer": "ipython3",
   "version": "3.7.4"
  }
 },
 "nbformat": 4,
 "nbformat_minor": 4
}
